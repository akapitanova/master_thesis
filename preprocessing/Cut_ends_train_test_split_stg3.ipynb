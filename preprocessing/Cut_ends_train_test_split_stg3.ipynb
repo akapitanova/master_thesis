{
 "cells": [
  {
   "cell_type": "code",
   "execution_count": 6,
   "id": "fd214f20",
   "metadata": {
    "ExecuteTime": {
     "end_time": "2024-12-13T11:06:00.002560Z",
     "start_time": "2024-12-13T11:05:59.883531Z"
    }
   },
   "outputs": [],
   "source": [
    "import pandas as pd\n",
    "from sklearn.model_selection import train_test_split"
   ]
  },
  {
   "cell_type": "code",
   "execution_count": 7,
   "id": "34bd3731",
   "metadata": {
    "ExecuteTime": {
     "end_time": "2024-12-13T11:06:01.066969Z",
     "start_time": "2024-12-13T11:06:00.233527Z"
    }
   },
   "outputs": [],
   "source": [
    "file_path = 'data/processed_data_stg3.csv'\n",
    "data = pd.read_csv(file_path)\n",
    "\n",
    "X = data.drop(columns=['intensities'])  \n",
    "y = data['intensities']                "
   ]
  },
  {
   "cell_type": "code",
   "execution_count": 8,
   "id": "e9d7636b",
   "metadata": {
    "ExecuteTime": {
     "end_time": "2024-12-13T11:06:01.145001Z",
     "start_time": "2024-12-13T11:06:01.078467Z"
    }
   },
   "outputs": [],
   "source": [
    "# Split the data into training and testing sets\n",
    "X_train, X_test, y_train, y_test = train_test_split(X, \n",
    "                                                    y, \n",
    "                                                    test_size=0.2, \n",
    "                                                    random_state=42)\n",
    "\n",
    "train_data = pd.concat([X_train, y_train], axis=1)\n",
    "test_data = pd.concat([X_test, y_test], axis=1)"
   ]
  },
  {
   "cell_type": "code",
   "execution_count": 9,
   "id": "5ff1aefe",
   "metadata": {
    "ExecuteTime": {
     "end_time": "2024-12-13T11:06:02.327459Z",
     "start_time": "2024-12-13T11:06:02.319820Z"
    }
   },
   "outputs": [
    {
     "name": "stdout",
     "output_type": "stream",
     "text": [
      "Original dataset size: 7834 rows\n",
      "Training dataset size: 6267 rows\n",
      "Testing dataset size: 1567 rows\n"
     ]
    }
   ],
   "source": [
    "print(f\"Original dataset size: {len(data)} rows\")\n",
    "print(f\"Training dataset size: {len(train_data)} rows\")\n",
    "print(f\"Testing dataset size: {len(test_data)} rows\")"
   ]
  },
  {
   "cell_type": "code",
   "execution_count": 10,
   "id": "a17f1c66",
   "metadata": {
    "ExecuteTime": {
     "end_time": "2024-12-13T11:06:05.274376Z",
     "start_time": "2024-12-13T11:06:03.049159Z"
    }
   },
   "outputs": [],
   "source": [
    "# Save the train and test sets\n",
    "train_data.to_csv('data/train_data.csv', index=False)\n",
    "test_data.to_csv('data/test_data.csv', index=False)"
   ]
  },
  {
   "cell_type": "code",
   "execution_count": null,
   "id": "46ed96f2",
   "metadata": {},
   "outputs": [],
   "source": []
  }
 ],
 "metadata": {
  "kernelspec": {
   "display_name": "Python 3 (ipykernel)",
   "language": "python",
   "name": "python3"
  },
  "language_info": {
   "codemirror_mode": {
    "name": "ipython",
    "version": 3
   },
   "file_extension": ".py",
   "mimetype": "text/x-python",
   "name": "python",
   "nbconvert_exporter": "python",
   "pygments_lexer": "ipython3",
   "version": "3.10.12"
  }
 },
 "nbformat": 4,
 "nbformat_minor": 5
}
