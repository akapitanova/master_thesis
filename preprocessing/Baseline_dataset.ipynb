{
 "cells": [
  {
   "cell_type": "code",
   "execution_count": 1,
   "id": "44c3403f-53ef-452a-8a0c-5d94ab46c5a1",
   "metadata": {},
   "outputs": [],
   "source": [
    "import pandas as pd"
   ]
  },
  {
   "cell_type": "markdown",
   "id": "27fd8ea0-90f3-4780-b939-b81f15bbc859",
   "metadata": {},
   "source": [
    "# Load data"
   ]
  },
  {
   "cell_type": "code",
   "execution_count": 2,
   "id": "f570f928-d717-41c4-ad21-310b543247bb",
   "metadata": {},
   "outputs": [],
   "source": [
    "data = pd.read_csv('../data/train_data_stg7_norm.csv')\n",
    "data_test = pd.read_csv('../data/test_data_stg7_norm.csv')\n",
    "data_val = pd.read_csv('../data/val_data_stg7_norm.csv')"
   ]
  },
  {
   "cell_type": "code",
   "execution_count": 3,
   "id": "7bd6c8af-0d73-4541-8b39-b0b9c7bc92be",
   "metadata": {},
   "outputs": [
    {
     "data": {
      "text/html": [
       "<div>\n",
       "<style scoped>\n",
       "    .dataframe tbody tr th:only-of-type {\n",
       "        vertical-align: middle;\n",
       "    }\n",
       "\n",
       "    .dataframe tbody tr th {\n",
       "        vertical-align: top;\n",
       "    }\n",
       "\n",
       "    .dataframe thead th {\n",
       "        text-align: right;\n",
       "    }\n",
       "</style>\n",
       "<table border=\"1\" class=\"dataframe\">\n",
       "  <thead>\n",
       "    <tr style=\"text-align: right;\">\n",
       "      <th></th>\n",
       "      <th>time</th>\n",
       "      <th>intensities</th>\n",
       "      <th>cond_vector</th>\n",
       "    </tr>\n",
       "  </thead>\n",
       "  <tbody>\n",
       "    <tr>\n",
       "      <th>0</th>\n",
       "      <td>2024-11-21 10:14:13.954589367</td>\n",
       "      <td>-1.0,-1.0,-1.0,-1.0,-1.0,-1.0,-1.0,-1.0,-1.0,-...</td>\n",
       "      <td>[-0.3478, -0.4151, -0.8214, -1.6029, -2.0, -1....</td>\n",
       "    </tr>\n",
       "    <tr>\n",
       "      <th>1</th>\n",
       "      <td>2024-11-21 10:14:14.964668751</td>\n",
       "      <td>-1.0,-1.0,-1.0,-1.0,-1.0,-1.0,-1.0,-1.0,-1.0,-...</td>\n",
       "      <td>[-0.3478, -0.4151, -0.8214, -1.6029, -2.0, -1....</td>\n",
       "    </tr>\n",
       "    <tr>\n",
       "      <th>2</th>\n",
       "      <td>2024-11-21 10:14:16.018996716</td>\n",
       "      <td>-1.0,-1.0,-1.0,-1.0,-1.0,-1.0,-1.0,-1.0,-1.0,-...</td>\n",
       "      <td>[-0.3478, -0.4151, -0.8214, -1.6029, -2.0, -1....</td>\n",
       "    </tr>\n",
       "    <tr>\n",
       "      <th>3</th>\n",
       "      <td>2024-11-21 10:14:17.021016121</td>\n",
       "      <td>-1.0,-1.0,-1.0,-1.0,-1.0,-1.0,-1.0,-1.0,-1.0,-...</td>\n",
       "      <td>[-0.3478, -0.4151, -0.8214, -1.6029, -2.0, -1....</td>\n",
       "    </tr>\n",
       "    <tr>\n",
       "      <th>4</th>\n",
       "      <td>2024-11-21 10:14:18.027237415</td>\n",
       "      <td>-1.0,-1.0,-1.0,-1.0,-1.0,-1.0,-1.0,-1.0,-1.0,-...</td>\n",
       "      <td>[-0.3478, -0.4151, -0.8214, -1.6029, -2.0, -1....</td>\n",
       "    </tr>\n",
       "  </tbody>\n",
       "</table>\n",
       "</div>"
      ],
      "text/plain": [
       "                            time  \\\n",
       "0  2024-11-21 10:14:13.954589367   \n",
       "1  2024-11-21 10:14:14.964668751   \n",
       "2  2024-11-21 10:14:16.018996716   \n",
       "3  2024-11-21 10:14:17.021016121   \n",
       "4  2024-11-21 10:14:18.027237415   \n",
       "\n",
       "                                         intensities  \\\n",
       "0  -1.0,-1.0,-1.0,-1.0,-1.0,-1.0,-1.0,-1.0,-1.0,-...   \n",
       "1  -1.0,-1.0,-1.0,-1.0,-1.0,-1.0,-1.0,-1.0,-1.0,-...   \n",
       "2  -1.0,-1.0,-1.0,-1.0,-1.0,-1.0,-1.0,-1.0,-1.0,-...   \n",
       "3  -1.0,-1.0,-1.0,-1.0,-1.0,-1.0,-1.0,-1.0,-1.0,-...   \n",
       "4  -1.0,-1.0,-1.0,-1.0,-1.0,-1.0,-1.0,-1.0,-1.0,-...   \n",
       "\n",
       "                                         cond_vector  \n",
       "0  [-0.3478, -0.4151, -0.8214, -1.6029, -2.0, -1....  \n",
       "1  [-0.3478, -0.4151, -0.8214, -1.6029, -2.0, -1....  \n",
       "2  [-0.3478, -0.4151, -0.8214, -1.6029, -2.0, -1....  \n",
       "3  [-0.3478, -0.4151, -0.8214, -1.6029, -2.0, -1....  \n",
       "4  [-0.3478, -0.4151, -0.8214, -1.6029, -2.0, -1....  "
      ]
     },
     "execution_count": 3,
     "metadata": {},
     "output_type": "execute_result"
    }
   ],
   "source": [
    "data.head()"
   ]
  },
  {
   "cell_type": "markdown",
   "id": "584a1ae2-6424-4480-81a1-af890487d4ff",
   "metadata": {},
   "source": [
    "# Add empty cond_vector"
   ]
  },
  {
   "cell_type": "code",
   "execution_count": 4,
   "id": "03c47a9d-42cb-4152-bd5b-2fccb6261a7f",
   "metadata": {},
   "outputs": [],
   "source": [
    "data['cond_vector'] = [[] for _ in range(len(data))]\n",
    "data_test['cond_vector'] = [[] for _ in range(len(data_test))]\n",
    "data_val['cond_vector'] = [[] for _ in range(len(data_val))]"
   ]
  },
  {
   "cell_type": "code",
   "execution_count": 5,
   "id": "059eeae8-3a58-466d-8862-fa72db4ac1ce",
   "metadata": {},
   "outputs": [
    {
     "data": {
      "text/html": [
       "<div>\n",
       "<style scoped>\n",
       "    .dataframe tbody tr th:only-of-type {\n",
       "        vertical-align: middle;\n",
       "    }\n",
       "\n",
       "    .dataframe tbody tr th {\n",
       "        vertical-align: top;\n",
       "    }\n",
       "\n",
       "    .dataframe thead th {\n",
       "        text-align: right;\n",
       "    }\n",
       "</style>\n",
       "<table border=\"1\" class=\"dataframe\">\n",
       "  <thead>\n",
       "    <tr style=\"text-align: right;\">\n",
       "      <th></th>\n",
       "      <th>time</th>\n",
       "      <th>intensities</th>\n",
       "      <th>cond_vector</th>\n",
       "    </tr>\n",
       "  </thead>\n",
       "  <tbody>\n",
       "    <tr>\n",
       "      <th>0</th>\n",
       "      <td>2024-11-21 10:14:13.954589367</td>\n",
       "      <td>-1.0,-1.0,-1.0,-1.0,-1.0,-1.0,-1.0,-1.0,-1.0,-...</td>\n",
       "      <td>[]</td>\n",
       "    </tr>\n",
       "    <tr>\n",
       "      <th>1</th>\n",
       "      <td>2024-11-21 10:14:14.964668751</td>\n",
       "      <td>-1.0,-1.0,-1.0,-1.0,-1.0,-1.0,-1.0,-1.0,-1.0,-...</td>\n",
       "      <td>[]</td>\n",
       "    </tr>\n",
       "    <tr>\n",
       "      <th>2</th>\n",
       "      <td>2024-11-21 10:14:16.018996716</td>\n",
       "      <td>-1.0,-1.0,-1.0,-1.0,-1.0,-1.0,-1.0,-1.0,-1.0,-...</td>\n",
       "      <td>[]</td>\n",
       "    </tr>\n",
       "    <tr>\n",
       "      <th>3</th>\n",
       "      <td>2024-11-21 10:14:17.021016121</td>\n",
       "      <td>-1.0,-1.0,-1.0,-1.0,-1.0,-1.0,-1.0,-1.0,-1.0,-...</td>\n",
       "      <td>[]</td>\n",
       "    </tr>\n",
       "    <tr>\n",
       "      <th>4</th>\n",
       "      <td>2024-11-21 10:14:18.027237415</td>\n",
       "      <td>-1.0,-1.0,-1.0,-1.0,-1.0,-1.0,-1.0,-1.0,-1.0,-...</td>\n",
       "      <td>[]</td>\n",
       "    </tr>\n",
       "  </tbody>\n",
       "</table>\n",
       "</div>"
      ],
      "text/plain": [
       "                            time  \\\n",
       "0  2024-11-21 10:14:13.954589367   \n",
       "1  2024-11-21 10:14:14.964668751   \n",
       "2  2024-11-21 10:14:16.018996716   \n",
       "3  2024-11-21 10:14:17.021016121   \n",
       "4  2024-11-21 10:14:18.027237415   \n",
       "\n",
       "                                         intensities cond_vector  \n",
       "0  -1.0,-1.0,-1.0,-1.0,-1.0,-1.0,-1.0,-1.0,-1.0,-...          []  \n",
       "1  -1.0,-1.0,-1.0,-1.0,-1.0,-1.0,-1.0,-1.0,-1.0,-...          []  \n",
       "2  -1.0,-1.0,-1.0,-1.0,-1.0,-1.0,-1.0,-1.0,-1.0,-...          []  \n",
       "3  -1.0,-1.0,-1.0,-1.0,-1.0,-1.0,-1.0,-1.0,-1.0,-...          []  \n",
       "4  -1.0,-1.0,-1.0,-1.0,-1.0,-1.0,-1.0,-1.0,-1.0,-...          []  "
      ]
     },
     "execution_count": 5,
     "metadata": {},
     "output_type": "execute_result"
    }
   ],
   "source": [
    "data.head()"
   ]
  },
  {
   "cell_type": "markdown",
   "id": "a8e3c891-4989-4666-880e-0d40302ec186",
   "metadata": {},
   "source": [
    "# Save data"
   ]
  },
  {
   "cell_type": "code",
   "execution_count": 6,
   "id": "d2718b5a-c8fd-4147-8368-3b5eb378aa4f",
   "metadata": {},
   "outputs": [],
   "source": [
    "data.to_csv('../data/train_baseline_stg7_norm.csv', index=False)\n",
    "data_test.to_csv('../data/test_baseline_stg7_norm.csv', index=False)\n",
    "data_val.to_csv('../data/val_baseline_stg7_norm.csv', index=False)"
   ]
  },
  {
   "cell_type": "code",
   "execution_count": null,
   "id": "43b4c3ad-eebe-49e8-ba75-b057eb9eb80e",
   "metadata": {},
   "outputs": [],
   "source": []
  }
 ],
 "metadata": {
  "kernelspec": {
   "display_name": "Python 3 (ipykernel)",
   "language": "python",
   "name": "python3"
  },
  "language_info": {
   "codemirror_mode": {
    "name": "ipython",
    "version": 3
   },
   "file_extension": ".py",
   "mimetype": "text/x-python",
   "name": "python",
   "nbconvert_exporter": "python",
   "pygments_lexer": "ipython3",
   "version": "3.10.12"
  }
 },
 "nbformat": 4,
 "nbformat_minor": 5
}
