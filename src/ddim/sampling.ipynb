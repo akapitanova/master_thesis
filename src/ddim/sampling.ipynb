{
 "cells": [
  {
   "cell_type": "code",
   "execution_count": 13,
   "id": "728cfb64c6ed442",
   "metadata": {
    "ExecuteTime": {
     "end_time": "2024-12-02T10:39:27.376372Z",
     "start_time": "2024-12-02T10:39:27.359848Z"
    }
   },
   "outputs": [],
   "source": [
    "\n",
    "from src.ddim.modules_ddim import UNet_conditional\n",
    "from diffusion import *\n",
    "from src.utils import *"
   ]
  },
  {
   "cell_type": "code",
   "execution_count": 14,
   "id": "3fdc082a170b09b",
   "metadata": {
    "ExecuteTime": {
     "end_time": "2024-12-02T10:24:30.774455Z",
     "start_time": "2024-12-02T10:24:14.498954Z"
    }
   },
   "outputs": [
    {
     "name": "stdout",
     "output_type": "stream",
     "text": [
      "Loading  models/test/ema_ckpt.pt\n",
      "Using device: cuda\n",
      "\n",
      "tensor([[1.0000, 0.6040, 0.0000]], device='cuda:0')\n",
      "Predicted x: tensor([[1960.7585, 1961.9376, 1961.6584,  ..., 1958.0496, 1962.4467,\n",
      "         1965.5277],\n",
      "        [1963.6447, 1962.4932, 1961.8400,  ..., 1964.2784, 1962.9442,\n",
      "         1965.2145],\n",
      "        [1961.9883, 1962.1350, 1961.2924,  ..., 1964.3527, 1962.6437,\n",
      "         1965.2795],\n",
      "        [1963.9164, 1962.4583, 1962.1951,  ..., 1964.1855, 1962.0957,\n",
      "         1962.6945]], device='cuda:0')\n"
     ]
    }
   ],
   "source": [
    "path = \"../models/test/ema_ckpt.pt\"\n",
    "print(\"Loading \", path)\n",
    "\n",
    "device = torch.device('cuda' if torch.cuda.is_available() else 'cpu')\n",
    "print('Using device:', device)\n",
    "print()\n",
    "\n",
    "model = UNet_conditional(length=1024,\n",
    "                         feat_num=3, \n",
    "                         device=device).to(device)\n",
    "ckpt = torch.load(path, \n",
    "                  map_location=device, \n",
    "                  weights_only=True)\n",
    "model.load_state_dict(ckpt)\n",
    "sampler = SpacedDiffusion(beta_start=1e-4, \n",
    "                          beta_end=0.02, \n",
    "                          noise_steps=1000, \n",
    "                          section_counts=[40], \n",
    "                          length=1024, \n",
    "                          device=device, \n",
    "                          rescale_timesteps=False)    \n",
    "    \n",
    "y = torch.Tensor([1.0, 0.604, 0.0]).to(device).float().unsqueeze(0) # parameter vector\n",
    "print(y)\n",
    "\n",
    "n = 4\n",
    "x = sampler.ddim_sample_loop(model=model, \n",
    "                             y=y, \n",
    "                             cfg_scale=1, \n",
    "                             device=device, \n",
    "                             eta=1, \n",
    "                             n=n #number of samples\n",
    "                             )\n",
    "print(f\"Predicted x: {x}\")"
   ]
  },
  {
   "cell_type": "code",
   "execution_count": null,
   "id": "ca84f243-e122-4ad5-8ec3-31688c14796e",
   "metadata": {},
   "outputs": [],
   "source": []
  }
 ],
 "metadata": {
  "kernelspec": {
   "display_name": "Python 3 (ipykernel)",
   "language": "python",
   "name": "python3"
  },
  "language_info": {
   "codemirror_mode": {
    "name": "ipython",
    "version": 3
   },
   "file_extension": ".py",
   "mimetype": "text/x-python",
   "name": "python",
   "nbconvert_exporter": "python",
   "pygments_lexer": "ipython3",
   "version": "3.10.12"
  }
 },
 "nbformat": 4,
 "nbformat_minor": 5
}
