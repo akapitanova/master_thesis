{
 "cells": [
  {
   "cell_type": "code",
   "execution_count": 28,
   "id": "initial_id",
   "metadata": {
    "ExecuteTime": {
     "end_time": "2024-12-02T15:13:11.338387Z",
     "start_time": "2024-12-02T15:13:11.330741Z"
    }
   },
   "outputs": [],
   "source": [
    "import torch\n",
    "import pandas as pd\n",
    "import numpy as np\n",
    "import torch.nn as nn\n",
    "from modules import UNet_conditional\n",
    "from diffusion import *\n",
    "from utils import *\n",
    "from torch.amp import autocast"
   ]
  },
  {
   "cell_type": "code",
   "execution_count": 29,
   "id": "8479e01a27013828",
   "metadata": {
    "ExecuteTime": {
     "end_time": "2024-12-02T15:13:13.294696Z",
     "start_time": "2024-12-02T15:13:13.286217Z"
    }
   },
   "outputs": [],
   "source": [
    "def predict(model,\n",
    "            sampler,\n",
    "            test_dl,\n",
    "            device,\n",
    "            n_samples=1):\n",
    "    \"\"\"\n",
    "    Return predictions\n",
    "    \"\"\"\n",
    "    x_real = []\n",
    "    predictions = []\n",
    "\n",
    "    model.eval()\n",
    "\n",
    "    with torch.no_grad():\n",
    "        for i, data in enumerate(tqdm(test_dl, desc=\"Testing loop\")):\n",
    "            vectors = data['data'].to(device)\n",
    "            settings = data['settings'].to(device)\n",
    "\n",
    "            pred = sampler.ddim_sample_loop(model=model,\n",
    "                                            y=settings,\n",
    "                                            cfg_scale=1,\n",
    "                                            device=device,\n",
    "                                            eta=1,\n",
    "                                            n=n_samples\n",
    "                                            )\n",
    "\n",
    "            x_real.extend(vectors.cpu().tolist() * n_samples)\n",
    "            predictions.append(pred.cpu().tolist())\n",
    "\n",
    "    return x_real, predictions\n",
    "    "
   ]
  },
  {
   "cell_type": "code",
   "execution_count": 30,
   "id": "6a9aceac7254e477",
   "metadata": {
    "ExecuteTime": {
     "end_time": "2024-12-02T15:13:33.629614Z",
     "start_time": "2024-12-02T15:13:14.343596Z"
    }
   },
   "outputs": [],
   "source": [
    "def evaluate(model,\n",
    "             sampler,\n",
    "             device,\n",
    "             test_csv_path,\n",
    "             n_samples=1):\n",
    "    \"\"\"\n",
    "    Evaluate predictions\n",
    "    \"\"\"\n",
    "    # Load the test dataset\n",
    "    x_test, y_test = get_data(test_csv_path)\n",
    "\n",
    "    test_dataset = CustomDataset(x_test, y_test)\n",
    "    test_dataloader = DataLoader(test_dataset,\n",
    "                                 batch_size=1,\n",
    "                                 shuffle=False)\n",
    "\n",
    "    x_real, predictions = predict(model,\n",
    "                                  sampler,\n",
    "                                  test_dataloader,\n",
    "                                  device=device,\n",
    "                                  n_samples=n_samples)\n",
    "\n",
    "    # intesities are normalized\n",
    "    #x_real = [[x * 3925 for x in row] for row in x_real]\n",
    "\n",
    "    return x_real, predictions"
   ]
  },
  {
   "cell_type": "code",
   "execution_count": 31,
   "id": "c9a8d789183a8b6b",
   "metadata": {},
   "outputs": [
    {
     "name": "stdout",
     "output_type": "stream",
     "text": [
      "Loading:  models/test/ema_ckpt.pt\n",
      "Using device: cuda\n"
     ]
    },
    {
     "name": "stderr",
     "output_type": "stream",
     "text": [
      "Testing loop: 100%|███████████████████████████████████████████████| 1567/1567 [16:21<00:00,  1.60it/s]"
     ]
    },
    {
     "name": "stdout",
     "output_type": "stream",
     "text": [
      "Mean test mse error: 219.9922186028118\n"
     ]
    },
    {
     "name": "stderr",
     "output_type": "stream",
     "text": [
      "\n"
     ]
    }
   ],
   "source": [
    "path = \"models/test/ema_ckpt.pt\"\n",
    "print(\"Loading: \", path)\n",
    "\n",
    "device = torch.device('cuda' if torch.cuda.is_available() else 'cpu')\n",
    "print('Using device:', device)\n",
    "\n",
    "model = UNet_conditional(length=1024,\n",
    "                         feat_num=3,\n",
    "                         device=device).to(device)\n",
    "ckpt = torch.load(path, map_location=device, weights_only=True)\n",
    "model.load_state_dict(ckpt)\n",
    "\n",
    "sampler = SpacedDiffusion(beta_start=1e-4,\n",
    "                          beta_end=0.02,\n",
    "                          noise_steps=1000,\n",
    "                          section_counts=[40],\n",
    "                          length=1024,\n",
    "                          device=device,\n",
    "                          rescale_timesteps=False)\n",
    "\n",
    "x_real, predictions = evaluate(model,\n",
    "                      sampler,\n",
    "                      device,\n",
    "                      \"../data/test_data.csv\")\n",
    "x_real = np.array(x_real)\n",
    "predictions = np.array(predictions)\n",
    "\n",
    "mse = np.mean(np.sum((x_real - predictions) ** 2, axis=1))\n",
    "print(f\"Mean test mse error: {mse}\")"
   ]
  },
  {
   "cell_type": "code",
   "execution_count": 32,
   "id": "c47d0f49-ef34-4b01-b53b-d910c2b9af13",
   "metadata": {},
   "outputs": [
    {
     "data": {
      "text/plain": [
       "array([[0.00061579, 0.        , 0.        , ..., 0.00181409, 0.00107043,\n",
       "        0.00106402],\n",
       "       [0.00087057, 0.        , 0.        , ..., 0.00079498, 0.00183476,\n",
       "        0.00029969],\n",
       "       [0.00010624, 0.00054038, 0.        , ..., 0.        , 0.00081565,\n",
       "        0.00106402],\n",
       "       ...,\n",
       "       [0.00112534, 0.        , 0.        , ..., 0.00054021, 0.00056087,\n",
       "        0.00055447],\n",
       "       [0.00087057, 0.        , 0.        , ..., 0.00155931, 0.00157998,\n",
       "        0.00029969],\n",
       "       [0.        , 0.        , 0.        , ..., 0.00079498, 0.0013252 ,\n",
       "        0.00029969]])"
      ]
     },
     "execution_count": 32,
     "metadata": {},
     "output_type": "execute_result"
    }
   ],
   "source": [
    "x_real"
   ]
  },
  {
   "cell_type": "code",
   "execution_count": 33,
   "id": "db050eb6-78cb-4fac-b83f-b45b268ad96c",
   "metadata": {},
   "outputs": [
    {
     "data": {
      "text/plain": [
       "array([[0.49986938, 0.49974379, 0.49977601, ..., 0.50027573, 0.50066578,\n",
       "        0.50055599],\n",
       "       [0.49942249, 0.4983426 , 0.50092518, ..., 0.50267631, 0.50151879,\n",
       "        0.50277191],\n",
       "       [0.50021368, 0.4997417 , 0.50045103, ..., 0.50025201, 0.50050372,\n",
       "        0.50036037],\n",
       "       ...,\n",
       "       [0.49993038, 0.49990419, 0.50048947, ..., 0.49979636, 0.49980822,\n",
       "        0.49937314],\n",
       "       [0.50249672, 0.49838027, 0.49974307, ..., 0.49700677, 0.50511807,\n",
       "        0.49888307],\n",
       "       [0.50058937, 0.50008249, 0.50088292, ..., 0.50117469, 0.50165546,\n",
       "        0.49977022]])"
      ]
     },
     "execution_count": 33,
     "metadata": {},
     "output_type": "execute_result"
    }
   ],
   "source": [
    "predictions"
   ]
  },
  {
   "cell_type": "code",
   "execution_count": 36,
   "id": "22a7c6d6-e178-469f-9660-acf35f884172",
   "metadata": {},
   "outputs": [],
   "source": [
    "x_real_str = [','.join(map(str, row)) for row in x_real]\n",
    "preds_str = [','.join(map(str, row)) for row in predictions]\n",
    "\n",
    "df = pd.DataFrame({'x_real': x_real_str, 'predictions': preds_str})\n",
    "df.to_csv('results/predictions/preds_test.csv', index=False)"
   ]
  },
  {
   "cell_type": "code",
   "execution_count": 37,
   "id": "08364d90-4576-4efd-b56e-aff31e90c148",
   "metadata": {},
   "outputs": [
    {
     "data": {
      "text/html": [
       "<div>\n",
       "<style scoped>\n",
       "    .dataframe tbody tr th:only-of-type {\n",
       "        vertical-align: middle;\n",
       "    }\n",
       "\n",
       "    .dataframe tbody tr th {\n",
       "        vertical-align: top;\n",
       "    }\n",
       "\n",
       "    .dataframe thead th {\n",
       "        text-align: right;\n",
       "    }\n",
       "</style>\n",
       "<table border=\"1\" class=\"dataframe\">\n",
       "  <thead>\n",
       "    <tr style=\"text-align: right;\">\n",
       "      <th></th>\n",
       "      <th>x_real</th>\n",
       "      <th>predictions</th>\n",
       "    </tr>\n",
       "  </thead>\n",
       "  <tbody>\n",
       "    <tr>\n",
       "      <th>0</th>\n",
       "      <td>0.0006157915922813118,0.0,0.0,0.00149204465560...</td>\n",
       "      <td>0.49986937642097473,0.499743789434433,0.499776...</td>\n",
       "    </tr>\n",
       "    <tr>\n",
       "      <th>1</th>\n",
       "      <td>0.0008705681539140642,0.0,0.0,0.00174682121723...</td>\n",
       "      <td>0.49942249059677124,0.4983426034450531,0.50092...</td>\n",
       "    </tr>\n",
       "    <tr>\n",
       "      <th>2</th>\n",
       "      <td>0.0001062385126715526,0.0005403818213380873,0....</td>\n",
       "      <td>0.5002136826515198,0.49974170327186584,0.50045...</td>\n",
       "    </tr>\n",
       "    <tr>\n",
       "      <th>3</th>\n",
       "      <td>0.0008705681539140642,3.082872717641294e-05,0....</td>\n",
       "      <td>0.4998929500579834,0.5008013844490051,0.498885...</td>\n",
       "    </tr>\n",
       "    <tr>\n",
       "      <th>4</th>\n",
       "      <td>0.0003610150597523898,0.0,0.0,0.00123726809397...</td>\n",
       "      <td>0.49972549080848694,0.5000240802764893,0.50007...</td>\n",
       "    </tr>\n",
       "  </tbody>\n",
       "</table>\n",
       "</div>"
      ],
      "text/plain": [
       "                                              x_real  \\\n",
       "0  0.0006157915922813118,0.0,0.0,0.00149204465560...   \n",
       "1  0.0008705681539140642,0.0,0.0,0.00174682121723...   \n",
       "2  0.0001062385126715526,0.0005403818213380873,0....   \n",
       "3  0.0008705681539140642,3.082872717641294e-05,0....   \n",
       "4  0.0003610150597523898,0.0,0.0,0.00123726809397...   \n",
       "\n",
       "                                         predictions  \n",
       "0  0.49986937642097473,0.499743789434433,0.499776...  \n",
       "1  0.49942249059677124,0.4983426034450531,0.50092...  \n",
       "2  0.5002136826515198,0.49974170327186584,0.50045...  \n",
       "3  0.4998929500579834,0.5008013844490051,0.498885...  \n",
       "4  0.49972549080848694,0.5000240802764893,0.50007...  "
      ]
     },
     "execution_count": 37,
     "metadata": {},
     "output_type": "execute_result"
    }
   ],
   "source": [
    "df.head()"
   ]
  },
  {
   "cell_type": "code",
   "execution_count": 41,
   "id": "a3648147-21a6-45cb-a6ab-255d4df30b21",
   "metadata": {},
   "outputs": [
    {
     "name": "stdout",
     "output_type": "stream",
     "text": [
      "Filtered Values (greater than 0.5) from x_real and corresponding Predictions:\n",
      "0.51206\t\t\t0.74380\n",
      "0.51917\t\t\t0.74502\n",
      "0.53315\t\t\t0.75106\n",
      "0.50054\t\t\t0.73277\n",
      "0.51451\t\t\t0.74905\n",
      "0.57714\t\t\t0.78376\n",
      "0.62085\t\t\t0.80965\n",
      "0.67306\t\t\t0.83520\n",
      "0.75889\t\t\t0.87753\n",
      "0.82681\t\t\t0.91355\n",
      "0.89323\t\t\t0.94234\n",
      "0.94675\t\t\t0.96625\n",
      "0.98621\t\t\t0.98562\n",
      "1.00000\t\t\t1.00000\n",
      "1.00000\t\t\t0.98785\n",
      "1.00000\t\t\t0.99698\n",
      "0.98376\t\t\t0.97684\n",
      "0.91490\t\t\t0.94376\n",
      "0.86643\t\t\t0.91961\n",
      "0.81041\t\t\t0.89188\n",
      "0.76278\t\t\t0.86764\n",
      "0.68614\t\t\t0.83288\n",
      "0.66184\t\t\t0.81947\n",
      "0.57601\t\t\t0.77922\n",
      "0.53988\t\t\t0.76191\n",
      "0.50519\t\t\t0.78015\n",
      "0.51203\t\t\t0.78525\n",
      "0.53162\t\t\t0.79211\n",
      "0.50025\t\t\t0.77075\n",
      "0.54682\t\t\t0.81168\n",
      "0.58773\t\t\t0.83272\n",
      "0.63280\t\t\t0.85919\n",
      "0.71023\t\t\t0.90690\n",
      "0.77866\t\t\t0.94408\n",
      "0.83973\t\t\t0.97863\n",
      "0.89197\t\t\t1.00000\n",
      "0.93576\t\t\t1.00000\n",
      "0.97427\t\t\t1.00000\n",
      "0.95795\t\t\t1.00000\n",
      "0.98165\t\t\t1.00000\n",
      "0.95217\t\t\t1.00000\n",
      "0.89197\t\t\t1.00000\n",
      "0.85242\t\t\t0.98056\n",
      "0.80047\t\t\t0.94558\n",
      "0.75615\t\t\t0.92096\n",
      "0.69047\t\t\t0.88026\n",
      "0.66184\t\t\t0.86827\n",
      "0.57448\t\t\t0.81987\n",
      "0.53402\t\t\t0.79769\n",
      "0.50635\t\t\t0.74597\n"
     ]
    }
   ],
   "source": [
    "# Find indices and values greater than 0.5\n",
    "indices = np.where(np.any(x_real > 0.5, axis=1))[0]\n",
    "filtered_values = [x_real[idx][x_real[idx] > 0.5] for idx in indices]\n",
    "filtered_predictions = [predictions[idx][x_real[idx] > 0.5] for idx in indices]\n",
    "\n",
    "# Flatten results and take the first 50\n",
    "flat_filtered_values = np.concatenate(filtered_values)[:50]\n",
    "flat_filtered_predictions = np.concatenate(filtered_predictions)[:50]\n",
    "\n",
    "# Print the results side by side\n",
    "print(\"Filtered Values (greater than 0.5) from x_real and corresponding Predictions:\")\n",
    "for value, prediction in zip(flat_filtered_values, flat_filtered_predictions):\n",
    "    print(f\"{value:.5f}\\t\\t\\t{prediction:.5f}\")"
   ]
  },
  {
   "cell_type": "code",
   "execution_count": 48,
   "id": "591dcd11-b335-4832-9d99-a21cc918c0b4",
   "metadata": {},
   "outputs": [
    {
     "name": "stdout",
     "output_type": "stream",
     "text": [
      "Filtered x_real (values < 0.1) and corresponding Predictions (values > 0.8):\n",
      "0.00000\t\t\t0.92265\n",
      "0.03061\t\t\t0.84337\n",
      "0.03801\t\t\t0.81315\n",
      "0.06477\t\t\t0.80533\n",
      "0.07688\t\t\t0.82607\n",
      "0.08723\t\t\t0.82684\n",
      "0.09592\t\t\t0.87914\n"
     ]
    }
   ],
   "source": [
    "# Find indices where predictions > 0.8 and corresponding x_real < 0.5\n",
    "indices = np.where((predictions > 0.8) & (x_real < 0.1))\n",
    "\n",
    "# Extract filtered values from x_real and predictions\n",
    "filtered_x_real = x_real[indices]\n",
    "filtered_predictions = predictions[indices]\n",
    "\n",
    "# Print the results side by side\n",
    "print(\"Filtered x_real (values < 0.1) and corresponding Predictions (values > 0.8):\")\n",
    "for x_val, pred_val in zip(filtered_x_real.flatten(), filtered_predictions.flatten()):\n",
    "    print(f\"{x_val:.5f}\\t\\t\\t{pred_val:.5f}\")"
   ]
  },
  {
   "cell_type": "code",
   "execution_count": null,
   "id": "e855b020-b21c-416e-a14d-964ae3a0fb2f",
   "metadata": {},
   "outputs": [],
   "source": []
  }
 ],
 "metadata": {
  "kernelspec": {
   "display_name": "Python 3 (ipykernel)",
   "language": "python",
   "name": "python3"
  },
  "language_info": {
   "codemirror_mode": {
    "name": "ipython",
    "version": 3
   },
   "file_extension": ".py",
   "mimetype": "text/x-python",
   "name": "python",
   "nbconvert_exporter": "python",
   "pygments_lexer": "ipython3",
   "version": "3.10.12"
  }
 },
 "nbformat": 4,
 "nbformat_minor": 5
}
