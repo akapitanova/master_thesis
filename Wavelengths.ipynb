{
 "cells": [
  {
   "cell_type": "code",
   "execution_count": 1,
   "id": "76d8c482-957a-4aae-85c5-61f42faab737",
   "metadata": {},
   "outputs": [],
   "source": [
    "import pandas as pd\n",
    "import numpy as np"
   ]
  },
  {
   "cell_type": "code",
   "execution_count": 2,
   "id": "f5df94e8-afa9-4f40-bef4-c9a78b61d561",
   "metadata": {},
   "outputs": [
    {
     "data": {
      "text/html": [
       "<div>\n",
       "<style scoped>\n",
       "    .dataframe tbody tr th:only-of-type {\n",
       "        vertical-align: middle;\n",
       "    }\n",
       "\n",
       "    .dataframe tbody tr th {\n",
       "        vertical-align: top;\n",
       "    }\n",
       "\n",
       "    .dataframe thead th {\n",
       "        text-align: right;\n",
       "    }\n",
       "</style>\n",
       "<table border=\"1\" class=\"dataframe\">\n",
       "  <thead>\n",
       "    <tr style=\"text-align: right;\">\n",
       "      <th></th>\n",
       "      <th>Time</th>\n",
       "      <th>Stage3_OutputPower</th>\n",
       "      <th>Stage3_Piezo</th>\n",
       "      <th>Stage3_Stepper</th>\n",
       "      <th>Intensities</th>\n",
       "      <th>Wavelengths</th>\n",
       "      <th>idx</th>\n",
       "    </tr>\n",
       "  </thead>\n",
       "  <tbody>\n",
       "    <tr>\n",
       "      <th>0</th>\n",
       "      <td>2024-06-17 10:08:10.347822666</td>\n",
       "      <td>2.08244</td>\n",
       "      <td>0.0</td>\n",
       "      <td>-338208.0</td>\n",
       "      <td>[1.416987, -1.878997, -7.094142, 5.856287, -4....</td>\n",
       "      <td>[634.835144, 635.296997, 635.758911, 636.22082...</td>\n",
       "      <td>0</td>\n",
       "    </tr>\n",
       "  </tbody>\n",
       "</table>\n",
       "</div>"
      ],
      "text/plain": [
       "                            Time  Stage3_OutputPower  Stage3_Piezo  \\\n",
       "0  2024-06-17 10:08:10.347822666             2.08244           0.0   \n",
       "\n",
       "   Stage3_Stepper                                        Intensities  \\\n",
       "0       -338208.0  [1.416987, -1.878997, -7.094142, 5.856287, -4....   \n",
       "\n",
       "                                         Wavelengths  idx  \n",
       "0  [634.835144, 635.296997, 635.758911, 636.22082...    0  "
      ]
     },
     "execution_count": 2,
     "metadata": {},
     "output_type": "execute_result"
    }
   ],
   "source": [
    "df = pd.read_csv('data/constant_stepper_stg3.csv', nrows=1)\n",
    "df"
   ]
  },
  {
   "cell_type": "code",
   "execution_count": 3,
   "id": "f41bbce9-5d30-4ec5-9dac-b4c8c37b85f6",
   "metadata": {},
   "outputs": [],
   "source": [
    "wavelengths = np.array(eval(df['Wavelengths'].iloc[0]))\n",
    "\n",
    "np.save('data/wavelengths.npy', wavelengths)"
   ]
  },
  {
   "cell_type": "code",
   "execution_count": null,
   "id": "61a77f3d-be3b-43d0-8345-3d03832dd0a3",
   "metadata": {},
   "outputs": [],
   "source": []
  }
 ],
 "metadata": {
  "kernelspec": {
   "display_name": "Python 3 (ipykernel)",
   "language": "python",
   "name": "python3"
  },
  "language_info": {
   "codemirror_mode": {
    "name": "ipython",
    "version": 3
   },
   "file_extension": ".py",
   "mimetype": "text/x-python",
   "name": "python",
   "nbconvert_exporter": "python",
   "pygments_lexer": "ipython3",
   "version": "3.8.20"
  }
 },
 "nbformat": 4,
 "nbformat_minor": 5
}
