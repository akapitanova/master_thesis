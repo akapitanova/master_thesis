{
 "cells": [
  {
   "cell_type": "code",
   "execution_count": 1,
   "id": "9165f11f-9775-46aa-bfd5-aca152697ce6",
   "metadata": {},
   "outputs": [
    {
     "name": "stdout",
     "output_type": "stream",
     "text": [
      "Importing the dtw module. When using in academic works please cite:\n",
      "  T. Giorgino. Computing and Visualizing Dynamic Time Warping Alignments in R: The dtw Package.\n",
      "  J. Stat. Soft., doi:10.18637/jss.v031.i07.\n",
      "\n"
     ]
    }
   ],
   "source": [
    "import numpy as np\n",
    "import torch\n",
    "import ipywidgets as widgets\n",
    "from IPython.display import display, clear_output\n",
    "import matplotlib.pyplot as plt\n",
    "\n",
    "from sample import sample_from_model\n",
    "from modules import UNet_conditional, EDMPrecond\n",
    "\n",
    "from diffusion import SpacedDiffusion\n",
    "from diffusion import EdmSampler\n",
    "\n",
    "from evaluate import evaluate\n",
    "from utils import plot_predictions_with_cond_vectors"
   ]
  },
  {
   "cell_type": "code",
   "execution_count": 2,
   "id": "430f1d3b-4a56-4a3a-a4c7-dcc107f5b7db",
   "metadata": {},
   "outputs": [],
   "source": [
    "wavelengths = np.load('../data/wavelengths.npy')\n",
    "epoch = 40\n",
    "name = \"edm_bs16_do0_cgt20_cg3_ns30_lr1e-3_0_e40_ed999\"\n",
    "model_path = \"models/\" + name + \"/ema_ckpt\" + str(epoch) + \".pt\"   \n",
    "device = torch.device('cuda:0' if torch.cuda.is_available() else 'cpu')\n",
    "\n",
    "# Load model\n",
    "model = EDMPrecond(device=device).to(device)\n",
    "ckpt = torch.load(model_path, map_location=device, weights_only=True)\n",
    "model.load_state_dict(ckpt)\n",
    "model.eval()\n",
    "\n",
    "# Create sampler\n",
    "noise_steps = 30 \n",
    "sampler = EdmSampler(net=model, num_steps=noise_steps)"
   ]
  },
  {
   "cell_type": "code",
   "execution_count": 3,
   "id": "bd695301-9d4b-4afa-a075-7681322c6a79",
   "metadata": {},
   "outputs": [],
   "source": [
    "# Parameter bounds and defaults\n",
    "parameter_bounds = {\n",
    "    \"L1-PL3-PZM52_Setpoint\": (-3.00, 3.00),\n",
    "    \"L1-PL3-PZM53_Setpoint\": (-3.00, 3.00),\n",
    "    \"L1-PL3-PZM56_Setpoint\": (-1.5910, 0.6349),\n",
    "    \"L1-PL3-PZM57_Setpoint\": (-3.5833, -0.0177),\n",
    "    \"L1-PL3-PZM58_Setpoint\": (-3.0000, 1.0000),\n",
    "    \"L1-PL3-PZM59_Setpoint\": (-3.0000, 1.0000),\n",
    "    \"L1-PL4-PZM66_Setpoint\": (-3.7500, 3.1082),\n",
    "    \"L1-PL4-PZM67_Setpoint\": (-3.7500, 0.2802),\n",
    "    \"L1-PL4-PZM68_Setpoint\": (-3.7500, 3.7500),\n",
    "    \"L1-PL4-PZM69_Setpoint\": (-1.9848, 3.7500),\n",
    "    \"L1-INJ-PM70:VAL_CAL\": (-0.3500, 41.8900),\n",
    "    \"L1-OPA3-5_2-PM98:VAL_CAL\": (5.6200, 66.2500),\n",
    "    \"L1-INJ-PM70:VAL_CAL_diff\": (-23.7200, 1.0800),\n",
    "}\n",
    "default_values = [-0.612, 0.1487, -0.4105, -1.2972, -1. , -1., -2.4977, -0.4915, -2.5347, 0.7122, 31.08, 43.41, 0.]\n",
    "#default_values = [1,0,0,0,0,0,0,0,0,0,0,0,0]"
   ]
  },
  {
   "cell_type": "code",
   "execution_count": 4,
   "id": "a39913ab-5c80-41d3-a591-c8e20450a6a9",
   "metadata": {},
   "outputs": [],
   "source": [
    "def create_sampling_ui(parameter_bounds, default_values, sampler, wavelengths, device):\n",
    "    output = widgets.Output()\n",
    "\n",
    "    # Create text input widgets + bounds info\n",
    "    text_inputs = {}\n",
    "    input_rows = []\n",
    "    for (param, (low, high)), default in zip(parameter_bounds.items(), default_values):\n",
    "        input_box = widgets.FloatText(\n",
    "            value=default,\n",
    "            description=param,\n",
    "            style={'description_width': '250px'},\n",
    "            layout=widgets.Layout(width='400px')\n",
    "        )\n",
    "        bounds_label = widgets.Label(\n",
    "            value=f\"Usual range: ({low:.2f}, {high:.2f})\",\n",
    "            layout=widgets.Layout(width='200px')\n",
    "        )\n",
    "        text_inputs[param] = input_box\n",
    "        row = widgets.HBox([input_box, bounds_label])\n",
    "        input_rows.append(row)\n",
    "\n",
    "    inputs_box = widgets.VBox(input_rows)\n",
    "\n",
    "    n_samples_input = widgets.IntText(\n",
    "        value=1,\n",
    "        description='n_samples',\n",
    "        style={'description_width': '150px'},\n",
    "        layout=widgets.Layout(width='300px')\n",
    "    )\n",
    "\n",
    "    run_button = widgets.Button(description=\"Sample\", button_style='success')\n",
    "\n",
    "    # Plotting function\n",
    "    def plot_spectra(predicted):\n",
    "        plt.figure(figsize=(12, 6), dpi=300)\n",
    "        if predicted.shape[0] == 1:\n",
    "            plt.plot(wavelengths, predicted[0], color='tab:blue', alpha=0.7, label=\"Predicted sample\")\n",
    "        elif predicted.shape[0] == 2:\n",
    "            plt.plot(wavelengths, predicted[0], color='tab:blue', alpha=0.7, label=\"Predicted sample 1\")\n",
    "            plt.plot(wavelengths, predicted[1], color='tab:green', alpha=0.7, label=\"Predicted sample 2\")\n",
    "        elif predicted.shape[0] == 3:\n",
    "            plt.plot(wavelengths, predicted[0], color='tab:blue', alpha=0.7, label=\"Predicted sample 1\")\n",
    "            plt.plot(wavelengths, predicted[1], color='tab:green', alpha=0.7, label=\"Predicted sample 2\")\n",
    "            plt.plot(wavelengths, predicted[2], color='tab:orange', alpha=0.7, label=\"Predicted sample 3\")\n",
    "        else:\n",
    "            min_intensities = np.min(predicted, axis=0)\n",
    "            max_intensities = np.max(predicted, axis=0)\n",
    "            plt.fill_between(wavelengths, min_intensities, max_intensities, color='tab:blue', alpha=0.3, label=\"Predicted range\")\n",
    "        plt.xlabel(\"Wavelengths\")\n",
    "        plt.ylabel(\"Intensity\")\n",
    "        plt.legend()\n",
    "        plt.show()\n",
    "\n",
    "    # Sampling function\n",
    "    def sample_and_plot(b):\n",
    "        with output:\n",
    "            clear_output()\n",
    "            cond_vec = torch.tensor(\n",
    "                [input_box.value for input_box in text_inputs.values()],\n",
    "                dtype=torch.float32\n",
    "            ).to(device)\n",
    "            n_samples = n_samples_input.value\n",
    "\n",
    "            with torch.no_grad():\n",
    "                pred = sampler.sample(\n",
    "                    resolution=1024,\n",
    "                    device=device,\n",
    "                    settings=cond_vec,\n",
    "                    n_samples=n_samples,\n",
    "                    cfg_scale=2,\n",
    "                    settings_dim=13\n",
    "                )\n",
    "            pred_np = pred.cpu().numpy()[:, 0, :]\n",
    "            plot_spectra(pred_np)\n",
    "\n",
    "    run_button.on_click(sample_and_plot)\n",
    "\n",
    "    controls_box = widgets.VBox([n_samples_input, run_button])\n",
    "    ui = widgets.HBox([inputs_box, controls_box])\n",
    "\n",
    "    display(ui, output)"
   ]
  },
  {
   "cell_type": "code",
   "execution_count": 13,
   "id": "509e1db4-2d16-48a1-96d4-4b2dcb0c3677",
   "metadata": {},
   "outputs": [
    {
     "data": {
      "application/vnd.jupyter.widget-view+json": {
       "model_id": "5d62bf4ea1464964b5f6de7dedafaa87",
       "version_major": 2,
       "version_minor": 0
      },
      "text/plain": [
       "HBox(children=(VBox(children=(HBox(children=(FloatText(value=-0.612, description='L1-PL3-PZM52_Setpoint', layo…"
      ]
     },
     "metadata": {},
     "output_type": "display_data"
    },
    {
     "data": {
      "application/vnd.jupyter.widget-view+json": {
       "model_id": "072a4984998b4736986e70db51212be3",
       "version_major": 2,
       "version_minor": 0
      },
      "text/plain": [
       "Output()"
      ]
     },
     "metadata": {},
     "output_type": "display_data"
    }
   ],
   "source": [
    "create_sampling_ui(parameter_bounds, default_values, sampler, wavelengths, device)"
   ]
  },
  {
   "cell_type": "code",
   "execution_count": 12,
   "id": "35545dff-e3dc-49eb-a1e0-133f9941cbfd",
   "metadata": {},
   "outputs": [
    {
     "data": {
      "application/vnd.jupyter.widget-view+json": {
       "model_id": "81770ed646784909b42ec1833e11a4db",
       "version_major": 2,
       "version_minor": 0
      },
      "text/plain": [
       "HBox(children=(VBox(children=(HBox(children=(FloatText(value=-0.612, description='L1-PL3-PZM52_Setpoint', layo…"
      ]
     },
     "metadata": {},
     "output_type": "display_data"
    },
    {
     "data": {
      "application/vnd.jupyter.widget-view+json": {
       "model_id": "7640d346b2f448eba08a6459591fde09",
       "version_major": 2,
       "version_minor": 0
      },
      "text/plain": [
       "Output()"
      ]
     },
     "metadata": {},
     "output_type": "display_data"
    }
   ],
   "source": [
    "create_sampling_ui(parameter_bounds, default_values, sampler, wavelengths, device)"
   ]
  },
  {
   "cell_type": "code",
   "execution_count": 11,
   "id": "34752d4a-8c4b-4b61-8764-debe399addf1",
   "metadata": {},
   "outputs": [
    {
     "data": {
      "application/vnd.jupyter.widget-view+json": {
       "model_id": "cfed5e22589949749d1e5cd160b7f296",
       "version_major": 2,
       "version_minor": 0
      },
      "text/plain": [
       "HBox(children=(VBox(children=(HBox(children=(FloatText(value=-0.612, description='L1-PL3-PZM52_Setpoint', layo…"
      ]
     },
     "metadata": {},
     "output_type": "display_data"
    },
    {
     "data": {
      "application/vnd.jupyter.widget-view+json": {
       "model_id": "4a4dfd77b5ca4af7b061fe1fee029e4a",
       "version_major": 2,
       "version_minor": 0
      },
      "text/plain": [
       "Output()"
      ]
     },
     "metadata": {},
     "output_type": "display_data"
    }
   ],
   "source": [
    "create_sampling_ui(parameter_bounds, default_values, sampler, wavelengths, device)"
   ]
  },
  {
   "cell_type": "code",
   "execution_count": 14,
   "id": "4b714d52-4a1c-4baf-864c-7aeadbcf37a0",
   "metadata": {},
   "outputs": [
    {
     "data": {
      "application/vnd.jupyter.widget-view+json": {
       "model_id": "1062e4e3098a4f6c8984064ccdc3d022",
       "version_major": 2,
       "version_minor": 0
      },
      "text/plain": [
       "HBox(children=(VBox(children=(HBox(children=(FloatText(value=-0.612, description='L1-PL3-PZM52_Setpoint', layo…"
      ]
     },
     "metadata": {},
     "output_type": "display_data"
    },
    {
     "data": {
      "application/vnd.jupyter.widget-view+json": {
       "model_id": "c2fb9fb1776541ea9d5d9128022d3c76",
       "version_major": 2,
       "version_minor": 0
      },
      "text/plain": [
       "Output()"
      ]
     },
     "metadata": {},
     "output_type": "display_data"
    }
   ],
   "source": [
    "create_sampling_ui(parameter_bounds, default_values, sampler, wavelengths, device)"
   ]
  },
  {
   "cell_type": "code",
   "execution_count": null,
   "id": "288889b9-e2e5-4c61-a59b-93fea7f660e4",
   "metadata": {},
   "outputs": [],
   "source": []
  }
 ],
 "metadata": {
  "kernelspec": {
   "display_name": "Python 3 (ipykernel)",
   "language": "python",
   "name": "python3"
  },
  "language_info": {
   "codemirror_mode": {
    "name": "ipython",
    "version": 3
   },
   "file_extension": ".py",
   "mimetype": "text/x-python",
   "name": "python",
   "nbconvert_exporter": "python",
   "pygments_lexer": "ipython3",
   "version": "3.10.12"
  }
 },
 "nbformat": 4,
 "nbformat_minor": 5
}
