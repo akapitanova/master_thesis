{
 "cells": [
  {
   "metadata": {},
   "cell_type": "code",
   "outputs": [],
   "execution_count": null,
   "source": [
    "import torch\n",
    "from modules import UNet_conditional\n",
    "from diffusion import *"
   ],
   "id": "728cfb64c6ed442"
  },
  {
   "cell_type": "code",
   "execution_count": null,
   "id": "initial_id",
   "metadata": {
    "collapsed": true
   },
   "outputs": [],
   "source": [
    "def create_sections_list(length, total_sum, schedule_function):\n",
    "    assert total_sum >= length, \"Total sum must be at least equal to the length of the list\"\n",
    "\n",
    "    sigmoid_values = torch.tensor([schedule_function(torch.tensor(i), \n",
    "                                                     max_steps=length, \n",
    "                                                     k=0.9) for i in range(1, length + 1)])\n",
    "    normalized_sigmoid_values = sigmoid_values / torch.sum(sigmoid_values)\n",
    "    available_sum = total_sum - length\n",
    "    scaled_sigmoid_values = normalized_sigmoid_values * available_sum\n",
    "    integer_list = (torch.ones(length) + scaled_sigmoid_values).int().tolist()\n",
    "\n",
    "    current_sum = sum(integer_list)\n",
    "    difference = total_sum - current_sum\n",
    "    \n",
    "    if difference != 0:\n",
    "        sign = int(difference / abs(difference))\n",
    "        indices = list(range(length))\n",
    "        torch.randperm(len(indices)).tolist()\n",
    "\n",
    "        for i in indices:\n",
    "            if difference == 0:\n",
    "                break\n",
    "            integer_list[i] += sign\n",
    "            difference -= sign\n",
    "\n",
    "    return sorted(integer_list)\n",
    "\n",
    "def cosine_step_schedule(step, max_steps=1000, k=0.9):\n",
    "    t = step / max_steps\n",
    "    return 0.5 * (1 + torch.cos(t * torch.pi))\n",
    "\n"
   ]
  },
  {
   "metadata": {},
   "cell_type": "code",
   "outputs": [],
   "execution_count": null,
   "source": [
    "path = \"models/nophys/ema_ckpt.pt\"\n",
    "print(\"Loading \", path)\n",
    "\n",
    "device = torch.device('cuda' if torch.cuda.is_available() else 'cpu')\n",
    "print('Using device:', device)\n",
    "print()\n",
    "\n",
    "model = UNet_conditional(length=40,\n",
    "                        #img_width=128, \n",
    "                         #img_height=64, \n",
    "                         #feat_num=3, \n",
    "                         device=device).to(device)\n",
    "ckpt = torch.load(path, map_location=device)\n",
    "model.load_state_dict(ckpt)\n",
    "sampler = SpacedDiffusion(beta_start=1e-4, \n",
    "                          beta_end=0.02, \n",
    "                          noise_steps=1000, \n",
    "                          section_counts=create_sections_list(10, \n",
    "                                                              25, \n",
    "                                                              cosine_step_schedule), \n",
    "                          #img_height=64, \n",
    "                          #img_width=128,\n",
    "                          length=40, \n",
    "                          device=device, \n",
    "                          rescale_timesteps=False)\n",
    "\n",
    "y = torch.Tensor([0]).to(device).float().unsqueeze(0) # parameter vector\n",
    "\n",
    "n = 4\n",
    "x = sampler.ddim_sample_loop(model=model, \n",
    "                             y=y, \n",
    "                             cfg_scale=1, \n",
    "                             device=device, \n",
    "                             eta=1, \n",
    "                             n=n #number of samples\n",
    "                             )"
   ],
   "id": "5fb22124e03b0cb9"
  }
 ],
 "metadata": {
  "kernelspec": {
   "display_name": "Python 3",
   "language": "python",
   "name": "python3"
  },
  "language_info": {
   "codemirror_mode": {
    "name": "ipython",
    "version": 2
   },
   "file_extension": ".py",
   "mimetype": "text/x-python",
   "name": "python",
   "nbconvert_exporter": "python",
   "pygments_lexer": "ipython2",
   "version": "2.7.6"
  }
 },
 "nbformat": 4,
 "nbformat_minor": 5
}
