{
 "cells": [
  {
   "metadata": {
    "ExecuteTime": {
     "end_time": "2024-12-02T10:39:27.376372Z",
     "start_time": "2024-12-02T10:39:27.359848Z"
    }
   },
   "cell_type": "code",
   "source": [
    "import torch\n",
    "import pandas as pd\n",
    "import numpy as np\n",
    "from modules import UNet_conditional\n",
    "from diffusion import *\n",
    "from utils import *"
   ],
   "id": "728cfb64c6ed442",
   "outputs": [],
   "execution_count": 10
  },
  {
   "metadata": {
    "ExecuteTime": {
     "end_time": "2024-12-02T10:24:30.774455Z",
     "start_time": "2024-12-02T10:24:14.498954Z"
    }
   },
   "cell_type": "code",
   "source": [
    "path = \"models/test/ema_ckpt.pt\"\n",
    "print(\"Loading \", path)\n",
    "\n",
    "device = torch.device('cuda' if torch.cuda.is_available() else 'cpu')\n",
    "print('Using device:', device)\n",
    "print()\n",
    "\n",
    "model = UNet_conditional(length=1024,\n",
    "                         feat_num=3, \n",
    "                         device=device).to(device)\n",
    "ckpt = torch.load(path, map_location=device)\n",
    "model.load_state_dict(ckpt)\n",
    "sampler = SpacedDiffusion(beta_start=1e-4, \n",
    "                          beta_end=0.02, \n",
    "                          noise_steps=1000, \n",
    "                          section_counts=[40], \n",
    "                          length=1024, \n",
    "                          device=device, \n",
    "                          rescale_timesteps=False)    \n",
    "    \n",
    "y = torch.Tensor([1.0, 0.604, 0.0]).to(device).float().unsqueeze(0) # parameter vector\n",
    "print(y)\n",
    "\n",
    "n = 4\n",
    "x = sampler.ddim_sample_loop(model=model, \n",
    "                             y=y, \n",
    "                             cfg_scale=1, \n",
    "                             device=device, \n",
    "                             eta=1, \n",
    "                             n=n #number of samples\n",
    "                             )\n",
    "print(f\"Predicted x: {x}\")"
   ],
   "id": "3fdc082a170b09b",
   "outputs": [
    {
     "name": "stdout",
     "output_type": "stream",
     "text": [
      "Loading  models/test/ema_ckpt.pt\n",
      "Using device: cpu\n",
      "\n",
      "tensor([[1.0000, 0.6040, 0.0000]])\n"
     ]
    },
    {
     "name": "stderr",
     "output_type": "stream",
     "text": [
      "ddim sample loop: 100%|██████████| 40/40 [00:16<00:00,  2.48it/s]"
     ]
    },
    {
     "name": "stdout",
     "output_type": "stream",
     "text": [
      "Predicted x: tensor([[ 0,  0,  0,  ...,  0,  0, 85],\n",
      "        [85,  0,  0,  ...,  0,  0, 85],\n",
      "        [ 0,  0,  0,  ...,  0,  0,  0],\n",
      "        [ 0,  0,  0,  ...,  0,  0,  0]], dtype=torch.uint8)\n"
     ]
    },
    {
     "name": "stderr",
     "output_type": "stream",
     "text": [
      "\n"
     ]
    }
   ],
   "execution_count": 6
  }
 ],
 "metadata": {
  "kernelspec": {
   "display_name": "Python 3",
   "language": "python",
   "name": "python3"
  },
  "language_info": {
   "codemirror_mode": {
    "name": "ipython",
    "version": 2
   },
   "file_extension": ".py",
   "mimetype": "text/x-python",
   "name": "python",
   "nbconvert_exporter": "python",
   "pygments_lexer": "ipython2",
   "version": "2.7.6"
  }
 },
 "nbformat": 4,
 "nbformat_minor": 5
}
