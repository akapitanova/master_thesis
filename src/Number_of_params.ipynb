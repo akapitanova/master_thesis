{
 "cells": [
  {
   "cell_type": "code",
   "execution_count": 1,
   "id": "e54bbbb8-aa58-4028-a762-f10acf2dbca4",
   "metadata": {},
   "outputs": [],
   "source": [
    "import torch\n",
    "from modules import *"
   ]
  },
  {
   "cell_type": "code",
   "execution_count": 2,
   "id": "12a226cc-81db-4648-80b8-0c2c7b3d1df3",
   "metadata": {},
   "outputs": [
    {
     "name": "stdout",
     "output_type": "stream",
     "text": [
      "Total trainable parameters: 8635655\n"
     ]
    }
   ],
   "source": [
    "model = UNet_conditional()\n",
    "total_params = sum(p.numel() for p in model.parameters() if p.requires_grad)\n",
    "print(f\"Total trainable parameters: {total_params}\")"
   ]
  },
  {
   "cell_type": "code",
   "execution_count": null,
   "id": "8a7ca29c-9970-4111-86be-aa4eb00b000c",
   "metadata": {},
   "outputs": [],
   "source": []
  }
 ],
 "metadata": {
  "kernelspec": {
   "display_name": "Python 3 (ipykernel)",
   "language": "python",
   "name": "python3"
  },
  "language_info": {
   "codemirror_mode": {
    "name": "ipython",
    "version": 3
   },
   "file_extension": ".py",
   "mimetype": "text/x-python",
   "name": "python",
   "nbconvert_exporter": "python",
   "pygments_lexer": "ipython3",
   "version": "3.10.12"
  }
 },
 "nbformat": 4,
 "nbformat_minor": 5
}
