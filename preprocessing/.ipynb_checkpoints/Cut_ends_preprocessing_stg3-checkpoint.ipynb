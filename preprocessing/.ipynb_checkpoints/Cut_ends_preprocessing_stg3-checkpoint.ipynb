{
 "cells": [
  {
   "cell_type": "markdown",
   "id": "1a539a24",
   "metadata": {},
   "source": [
    "# Data preprocessing stage 3\n",
    "- the spectrum data needs to be normalized as well as the conditional vector"
   ]
  },
  {
   "cell_type": "markdown",
   "id": "86967522",
   "metadata": {},
   "source": [
    "## Load data"
   ]
  },
  {
   "cell_type": "code",
   "id": "4c4924d1",
   "metadata": {
    "ExecuteTime": {
     "end_time": "2024-12-13T11:01:33.889562Z",
     "start_time": "2024-12-13T11:01:32.254509Z"
    }
   },
   "source": [
    "\n",
    "import ast\n",
    "from src.utils import *"
   ],
   "outputs": [
    {
     "name": "stderr",
     "output_type": "stream",
     "text": [
      "/home/anna/anaconda3/envs/mt_env/lib/python3.8/site-packages/tqdm/auto.py:21: TqdmWarning: IProgress not found. Please update jupyter and ipywidgets. See https://ipywidgets.readthedocs.io/en/stable/user_install.html\n",
      "  from .autonotebook import tqdm as notebook_tqdm\n"
     ]
    }
   ],
   "execution_count": 1
  },
  {
   "cell_type": "code",
   "id": "c5daeae1",
   "metadata": {
    "ExecuteTime": {
     "end_time": "2024-12-13T11:01:49.258938Z",
     "start_time": "2024-12-13T11:01:34.005805Z"
    }
   },
   "source": [
    "data_stg3 = pd.read_csv('data/constant_stepper_stg3.csv')\n",
    "\n",
    "data_stg3.rename(columns={\n",
    "    'Time':'time',\n",
    "    'Intensities': 'intensities',\n",
    "}, inplace=True)\n",
    "\n",
    "data_stg3['intensities'] = data_stg3['intensities'].apply(\n",
    "    lambda x: np.array(ast.literal_eval(x.lstrip('[').rstrip(']')))\n",
    ")"
   ],
   "outputs": [],
   "execution_count": 2
  },
  {
   "cell_type": "code",
   "id": "16c0ff66",
   "metadata": {
    "ExecuteTime": {
     "end_time": "2024-12-13T11:01:49.326623Z",
     "start_time": "2024-12-13T11:01:49.310137Z"
    }
   },
   "source": [
    "data_stg3.head()"
   ],
   "outputs": [
    {
     "data": {
      "text/plain": [
       "                            time  Stage3_OutputPower  Stage3_Piezo  \\\n",
       "0  2024-06-17 10:08:10.347822666            2.082440           0.0   \n",
       "1  2024-06-17 10:08:10.431182861            2.146321           0.0   \n",
       "2  2024-06-17 10:08:10.852890968            2.146321           0.0   \n",
       "3  2024-06-17 10:08:10.929437160            2.215926           0.0   \n",
       "4  2024-06-17 10:08:10.933794975            2.215926           0.0   \n",
       "\n",
       "   Stage3_Stepper                                        intensities  \\\n",
       "0       -338208.0  [1.416987, -1.878997, -7.094142, 5.856287, -4....   \n",
       "1       -338208.0  [1.416987, -1.878997, -7.094142, 5.856287, -4....   \n",
       "2       -337925.0  [1.416987, -1.878997, -7.094142, 5.856287, -4....   \n",
       "3       -337925.0  [-2.583013, -5.878997, -7.094142, 9.856287, -0...   \n",
       "4       -337925.0  [-2.583013, -5.878997, -7.094142, 9.856287, -0...   \n",
       "\n",
       "                                         Wavelengths  idx  \n",
       "0  [634.835144, 635.296997, 635.758911, 636.22082...    0  \n",
       "1  [634.835144, 635.296997, 635.758911, 636.22082...    0  \n",
       "2  [634.835144, 635.296997, 635.758911, 636.22082...    1  \n",
       "3  [634.835144, 635.296997, 635.758911, 636.22082...    1  \n",
       "4  [634.835144, 635.296997, 635.758911, 636.22082...    1  "
      ],
      "text/html": [
       "<div>\n",
       "<style scoped>\n",
       "    .dataframe tbody tr th:only-of-type {\n",
       "        vertical-align: middle;\n",
       "    }\n",
       "\n",
       "    .dataframe tbody tr th {\n",
       "        vertical-align: top;\n",
       "    }\n",
       "\n",
       "    .dataframe thead th {\n",
       "        text-align: right;\n",
       "    }\n",
       "</style>\n",
       "<table border=\"1\" class=\"dataframe\">\n",
       "  <thead>\n",
       "    <tr style=\"text-align: right;\">\n",
       "      <th></th>\n",
       "      <th>time</th>\n",
       "      <th>Stage3_OutputPower</th>\n",
       "      <th>Stage3_Piezo</th>\n",
       "      <th>Stage3_Stepper</th>\n",
       "      <th>intensities</th>\n",
       "      <th>Wavelengths</th>\n",
       "      <th>idx</th>\n",
       "    </tr>\n",
       "  </thead>\n",
       "  <tbody>\n",
       "    <tr>\n",
       "      <th>0</th>\n",
       "      <td>2024-06-17 10:08:10.347822666</td>\n",
       "      <td>2.082440</td>\n",
       "      <td>0.0</td>\n",
       "      <td>-338208.0</td>\n",
       "      <td>[1.416987, -1.878997, -7.094142, 5.856287, -4....</td>\n",
       "      <td>[634.835144, 635.296997, 635.758911, 636.22082...</td>\n",
       "      <td>0</td>\n",
       "    </tr>\n",
       "    <tr>\n",
       "      <th>1</th>\n",
       "      <td>2024-06-17 10:08:10.431182861</td>\n",
       "      <td>2.146321</td>\n",
       "      <td>0.0</td>\n",
       "      <td>-338208.0</td>\n",
       "      <td>[1.416987, -1.878997, -7.094142, 5.856287, -4....</td>\n",
       "      <td>[634.835144, 635.296997, 635.758911, 636.22082...</td>\n",
       "      <td>0</td>\n",
       "    </tr>\n",
       "    <tr>\n",
       "      <th>2</th>\n",
       "      <td>2024-06-17 10:08:10.852890968</td>\n",
       "      <td>2.146321</td>\n",
       "      <td>0.0</td>\n",
       "      <td>-337925.0</td>\n",
       "      <td>[1.416987, -1.878997, -7.094142, 5.856287, -4....</td>\n",
       "      <td>[634.835144, 635.296997, 635.758911, 636.22082...</td>\n",
       "      <td>1</td>\n",
       "    </tr>\n",
       "    <tr>\n",
       "      <th>3</th>\n",
       "      <td>2024-06-17 10:08:10.929437160</td>\n",
       "      <td>2.215926</td>\n",
       "      <td>0.0</td>\n",
       "      <td>-337925.0</td>\n",
       "      <td>[-2.583013, -5.878997, -7.094142, 9.856287, -0...</td>\n",
       "      <td>[634.835144, 635.296997, 635.758911, 636.22082...</td>\n",
       "      <td>1</td>\n",
       "    </tr>\n",
       "    <tr>\n",
       "      <th>4</th>\n",
       "      <td>2024-06-17 10:08:10.933794975</td>\n",
       "      <td>2.215926</td>\n",
       "      <td>0.0</td>\n",
       "      <td>-337925.0</td>\n",
       "      <td>[-2.583013, -5.878997, -7.094142, 9.856287, -0...</td>\n",
       "      <td>[634.835144, 635.296997, 635.758911, 636.22082...</td>\n",
       "      <td>1</td>\n",
       "    </tr>\n",
       "  </tbody>\n",
       "</table>\n",
       "</div>"
      ]
     },
     "execution_count": 3,
     "metadata": {},
     "output_type": "execute_result"
    }
   ],
   "execution_count": 3
  },
  {
   "cell_type": "markdown",
   "id": "01a54d7e",
   "metadata": {},
   "source": [
    "## Conditional vector"
   ]
  },
  {
   "cell_type": "markdown",
   "id": "ca399e37",
   "metadata": {},
   "source": [
    "### Stepper"
   ]
  },
  {
   "cell_type": "code",
   "id": "168403d8",
   "metadata": {
    "ExecuteTime": {
     "end_time": "2024-12-13T11:01:52.263822Z",
     "start_time": "2024-12-13T11:01:52.210780Z"
    }
   },
   "source": [
    "data_stg3['time'] = pd.to_datetime(data_stg3['time'])\n",
    "data_stg3 = data_stg3.sort_values(by='time')\n",
    "\n",
    "# Calculate the difference in Stage3_Stepper values\n",
    "data_stg3['stepper_diff'] = data_stg3['Stage3_Stepper'].diff()\n",
    "data_stg3['stepper_diff'].iloc[0] = 0\n",
    "\n",
    "data_stg3.head(10)"
   ],
   "outputs": [
    {
     "name": "stderr",
     "output_type": "stream",
     "text": [
      "/tmp/ipykernel_590793/1399089669.py:6: SettingWithCopyWarning: \n",
      "A value is trying to be set on a copy of a slice from a DataFrame\n",
      "\n",
      "See the caveats in the documentation: https://pandas.pydata.org/pandas-docs/stable/user_guide/indexing.html#returning-a-view-versus-a-copy\n",
      "  data_stg3['stepper_diff'].iloc[0] = 0\n"
     ]
    },
    {
     "data": {
      "text/plain": [
       "                           time  Stage3_OutputPower  Stage3_Piezo  \\\n",
       "0 2024-06-17 10:08:10.347822666            2.082440           0.0   \n",
       "1 2024-06-17 10:08:10.431182861            2.146321           0.0   \n",
       "2 2024-06-17 10:08:10.852890968            2.146321           0.0   \n",
       "3 2024-06-17 10:08:10.929437160            2.215926           0.0   \n",
       "4 2024-06-17 10:08:10.933794975            2.215926           0.0   \n",
       "5 2024-06-17 10:08:12.199779034            2.215926           0.0   \n",
       "6 2024-06-17 10:08:12.446031094            2.177769           0.0   \n",
       "7 2024-06-17 10:08:12.448709011            2.177769           0.0   \n",
       "8 2024-06-17 10:08:12.698511124            2.223322           0.0   \n",
       "9 2024-06-17 10:08:13.202000141            2.163728           0.0   \n",
       "\n",
       "   Stage3_Stepper                                        intensities  \\\n",
       "0       -338208.0  [1.416987, -1.878997, -7.094142, 5.856287, -4....   \n",
       "1       -338208.0  [1.416987, -1.878997, -7.094142, 5.856287, -4....   \n",
       "2       -337925.0  [1.416987, -1.878997, -7.094142, 5.856287, -4....   \n",
       "3       -337925.0  [-2.583013, -5.878997, -7.094142, 9.856287, -0...   \n",
       "4       -337925.0  [-2.583013, -5.878997, -7.094142, 9.856287, -0...   \n",
       "5       -337287.0  [2.416987, -1.878997, -1.094142, 7.856287, 0.3...   \n",
       "6       -337287.0  [2.416987, -1.878997, -1.094142, 7.856287, 0.3...   \n",
       "7       -337287.0  [2.416987, -1.878997, -1.094142, 7.856287, 0.3...   \n",
       "8       -337287.0  [2.416987, -1.878997, -1.094142, 7.856287, 0.3...   \n",
       "9       -337287.0  [4.416987, -1.878997, -2.094142, 7.856287, -2....   \n",
       "\n",
       "                                         Wavelengths  idx  stepper_diff  \n",
       "0  [634.835144, 635.296997, 635.758911, 636.22082...    0           0.0  \n",
       "1  [634.835144, 635.296997, 635.758911, 636.22082...    0           0.0  \n",
       "2  [634.835144, 635.296997, 635.758911, 636.22082...    1         283.0  \n",
       "3  [634.835144, 635.296997, 635.758911, 636.22082...    1           0.0  \n",
       "4  [634.835144, 635.296997, 635.758911, 636.22082...    1           0.0  \n",
       "5  [634.835144, 635.296997, 635.758911, 636.22082...    2         638.0  \n",
       "6  [634.835144, 635.296997, 635.758911, 636.22082...    2           0.0  \n",
       "7  [634.835144, 635.296997, 635.758911, 636.22082...    2           0.0  \n",
       "8  [634.835144, 635.296997, 635.758911, 636.22082...    2           0.0  \n",
       "9  [634.835144, 635.296997, 635.758911, 636.22082...    2           0.0  "
      ],
      "text/html": [
       "<div>\n",
       "<style scoped>\n",
       "    .dataframe tbody tr th:only-of-type {\n",
       "        vertical-align: middle;\n",
       "    }\n",
       "\n",
       "    .dataframe tbody tr th {\n",
       "        vertical-align: top;\n",
       "    }\n",
       "\n",
       "    .dataframe thead th {\n",
       "        text-align: right;\n",
       "    }\n",
       "</style>\n",
       "<table border=\"1\" class=\"dataframe\">\n",
       "  <thead>\n",
       "    <tr style=\"text-align: right;\">\n",
       "      <th></th>\n",
       "      <th>time</th>\n",
       "      <th>Stage3_OutputPower</th>\n",
       "      <th>Stage3_Piezo</th>\n",
       "      <th>Stage3_Stepper</th>\n",
       "      <th>intensities</th>\n",
       "      <th>Wavelengths</th>\n",
       "      <th>idx</th>\n",
       "      <th>stepper_diff</th>\n",
       "    </tr>\n",
       "  </thead>\n",
       "  <tbody>\n",
       "    <tr>\n",
       "      <th>0</th>\n",
       "      <td>2024-06-17 10:08:10.347822666</td>\n",
       "      <td>2.082440</td>\n",
       "      <td>0.0</td>\n",
       "      <td>-338208.0</td>\n",
       "      <td>[1.416987, -1.878997, -7.094142, 5.856287, -4....</td>\n",
       "      <td>[634.835144, 635.296997, 635.758911, 636.22082...</td>\n",
       "      <td>0</td>\n",
       "      <td>0.0</td>\n",
       "    </tr>\n",
       "    <tr>\n",
       "      <th>1</th>\n",
       "      <td>2024-06-17 10:08:10.431182861</td>\n",
       "      <td>2.146321</td>\n",
       "      <td>0.0</td>\n",
       "      <td>-338208.0</td>\n",
       "      <td>[1.416987, -1.878997, -7.094142, 5.856287, -4....</td>\n",
       "      <td>[634.835144, 635.296997, 635.758911, 636.22082...</td>\n",
       "      <td>0</td>\n",
       "      <td>0.0</td>\n",
       "    </tr>\n",
       "    <tr>\n",
       "      <th>2</th>\n",
       "      <td>2024-06-17 10:08:10.852890968</td>\n",
       "      <td>2.146321</td>\n",
       "      <td>0.0</td>\n",
       "      <td>-337925.0</td>\n",
       "      <td>[1.416987, -1.878997, -7.094142, 5.856287, -4....</td>\n",
       "      <td>[634.835144, 635.296997, 635.758911, 636.22082...</td>\n",
       "      <td>1</td>\n",
       "      <td>283.0</td>\n",
       "    </tr>\n",
       "    <tr>\n",
       "      <th>3</th>\n",
       "      <td>2024-06-17 10:08:10.929437160</td>\n",
       "      <td>2.215926</td>\n",
       "      <td>0.0</td>\n",
       "      <td>-337925.0</td>\n",
       "      <td>[-2.583013, -5.878997, -7.094142, 9.856287, -0...</td>\n",
       "      <td>[634.835144, 635.296997, 635.758911, 636.22082...</td>\n",
       "      <td>1</td>\n",
       "      <td>0.0</td>\n",
       "    </tr>\n",
       "    <tr>\n",
       "      <th>4</th>\n",
       "      <td>2024-06-17 10:08:10.933794975</td>\n",
       "      <td>2.215926</td>\n",
       "      <td>0.0</td>\n",
       "      <td>-337925.0</td>\n",
       "      <td>[-2.583013, -5.878997, -7.094142, 9.856287, -0...</td>\n",
       "      <td>[634.835144, 635.296997, 635.758911, 636.22082...</td>\n",
       "      <td>1</td>\n",
       "      <td>0.0</td>\n",
       "    </tr>\n",
       "    <tr>\n",
       "      <th>5</th>\n",
       "      <td>2024-06-17 10:08:12.199779034</td>\n",
       "      <td>2.215926</td>\n",
       "      <td>0.0</td>\n",
       "      <td>-337287.0</td>\n",
       "      <td>[2.416987, -1.878997, -1.094142, 7.856287, 0.3...</td>\n",
       "      <td>[634.835144, 635.296997, 635.758911, 636.22082...</td>\n",
       "      <td>2</td>\n",
       "      <td>638.0</td>\n",
       "    </tr>\n",
       "    <tr>\n",
       "      <th>6</th>\n",
       "      <td>2024-06-17 10:08:12.446031094</td>\n",
       "      <td>2.177769</td>\n",
       "      <td>0.0</td>\n",
       "      <td>-337287.0</td>\n",
       "      <td>[2.416987, -1.878997, -1.094142, 7.856287, 0.3...</td>\n",
       "      <td>[634.835144, 635.296997, 635.758911, 636.22082...</td>\n",
       "      <td>2</td>\n",
       "      <td>0.0</td>\n",
       "    </tr>\n",
       "    <tr>\n",
       "      <th>7</th>\n",
       "      <td>2024-06-17 10:08:12.448709011</td>\n",
       "      <td>2.177769</td>\n",
       "      <td>0.0</td>\n",
       "      <td>-337287.0</td>\n",
       "      <td>[2.416987, -1.878997, -1.094142, 7.856287, 0.3...</td>\n",
       "      <td>[634.835144, 635.296997, 635.758911, 636.22082...</td>\n",
       "      <td>2</td>\n",
       "      <td>0.0</td>\n",
       "    </tr>\n",
       "    <tr>\n",
       "      <th>8</th>\n",
       "      <td>2024-06-17 10:08:12.698511124</td>\n",
       "      <td>2.223322</td>\n",
       "      <td>0.0</td>\n",
       "      <td>-337287.0</td>\n",
       "      <td>[2.416987, -1.878997, -1.094142, 7.856287, 0.3...</td>\n",
       "      <td>[634.835144, 635.296997, 635.758911, 636.22082...</td>\n",
       "      <td>2</td>\n",
       "      <td>0.0</td>\n",
       "    </tr>\n",
       "    <tr>\n",
       "      <th>9</th>\n",
       "      <td>2024-06-17 10:08:13.202000141</td>\n",
       "      <td>2.163728</td>\n",
       "      <td>0.0</td>\n",
       "      <td>-337287.0</td>\n",
       "      <td>[4.416987, -1.878997, -2.094142, 7.856287, -2....</td>\n",
       "      <td>[634.835144, 635.296997, 635.758911, 636.22082...</td>\n",
       "      <td>2</td>\n",
       "      <td>0.0</td>\n",
       "    </tr>\n",
       "  </tbody>\n",
       "</table>\n",
       "</div>"
      ]
     },
     "execution_count": 4,
     "metadata": {},
     "output_type": "execute_result"
    }
   ],
   "execution_count": 4
  },
  {
   "cell_type": "markdown",
   "id": "c7cbc8d2",
   "metadata": {},
   "source": [
    "### Statistics"
   ]
  },
  {
   "cell_type": "code",
   "id": "f3c13f28",
   "metadata": {
    "ExecuteTime": {
     "end_time": "2024-12-13T11:01:54.123845Z",
     "start_time": "2024-12-13T11:01:54.118082Z"
    }
   },
   "source": [
    "def print_feature_statistics(data):\n",
    "    # List of columns to analyze\n",
    "    features = [\n",
    "        \"Stage3_OutputPower\",\n",
    "        \"Stage3_Piezo\",\n",
    "        \"Stage3_Stepper\",\n",
    "        \"stepper_diff\"\n",
    "    ]\n",
    "    \n",
    "    for feature in features:\n",
    "        if feature in data.columns:\n",
    "            # Calculate statistics\n",
    "            min_val = np.min(data[feature])\n",
    "            max_val = np.max(data[feature])\n",
    "            mean_val = np.mean(data[feature])\n",
    "            median_val = np.median(data[feature])\n",
    "            variance_val = np.var(data[feature])\n",
    "\n",
    "            # Print statistics\n",
    "            print(f\"\\nStatistics for {feature}:\")\n",
    "            print(f\"  Minimum: {min_val}\")\n",
    "            print(f\"  Maximum: {max_val}\")\n",
    "            print(f\"  Mean: {mean_val}\")\n",
    "            print(f\"  Median: {median_val}\")\n",
    "            print(f\"  Variance: {variance_val}\")\n",
    "        else:\n",
    "            print(f\"\\nFeature {feature} not found in the DataFrame\")\n",
    "\n"
   ],
   "outputs": [],
   "execution_count": 5
  },
  {
   "cell_type": "code",
   "id": "efb13b9d",
   "metadata": {
    "ExecuteTime": {
     "end_time": "2024-12-13T11:01:54.730245Z",
     "start_time": "2024-12-13T11:01:54.722328Z"
    }
   },
   "source": [
    "print_feature_statistics(data_stg3)"
   ],
   "outputs": [
    {
     "name": "stdout",
     "output_type": "stream",
     "text": [
      "\n",
      "Statistics for Stage3_OutputPower:\n",
      "  Minimum: 1.68496\n",
      "  Maximum: 2.26343\n",
      "  Mean: 1.9270967319377075\n",
      "  Median: 1.914118\n",
      "  Variance: 0.007509378580093354\n",
      "\n",
      "Statistics for Stage3_Piezo:\n",
      "  Minimum: -1.614288\n",
      "  Maximum: 1.054535\n",
      "  Mean: -0.39387849897881033\n",
      "  Median: -0.351685\n",
      "  Variance: 0.30736530398120127\n",
      "\n",
      "Statistics for Stage3_Stepper:\n",
      "  Minimum: -338208.0\n",
      "  Maximum: -302907.0\n",
      "  Mean: -319752.763466939\n",
      "  Median: -318127.0\n",
      "  Variance: 106870061.41240302\n",
      "\n",
      "Statistics for stepper_diff:\n",
      "  Minimum: 0.0\n",
      "  Maximum: 672.0\n",
      "  Mean: 4.506127138115905\n",
      "  Median: 0.0\n",
      "  Variance: 1276.776641038539\n"
     ]
    }
   ],
   "execution_count": 6
  },
  {
   "cell_type": "markdown",
   "id": "912a27fd",
   "metadata": {},
   "source": [
    "## Intensities"
   ]
  },
  {
   "cell_type": "markdown",
   "id": "0963ad59",
   "metadata": {},
   "source": [
    "### Statistical information about data"
   ]
  },
  {
   "cell_type": "code",
   "id": "25b2084f",
   "metadata": {
    "ExecuteTime": {
     "end_time": "2024-12-13T11:01:57.078153Z",
     "start_time": "2024-12-13T11:01:56.854342Z"
    }
   },
   "source": [
    "# Flatten the intensities into a single list\n",
    "all_intensities_stg3 = np.concatenate(data_stg3['intensities'])\n",
    "\n",
    "# Calculate statistics\n",
    "min_val = np.min(all_intensities_stg3)\n",
    "max_val = np.max(all_intensities_stg3)\n",
    "mean_val = np.mean(all_intensities_stg3)\n",
    "median_val = np.median(all_intensities_stg3)\n",
    "variance_val = np.var(all_intensities_stg3)\n",
    "\n",
    "# Print statistics\n",
    "print(f\"Minimum Intensity: {min_val}\")\n",
    "print(f\"Maximum Intensity: {max_val}\")\n",
    "print(f\"Mean Intensity: {mean_val}\")\n",
    "print(f\"Median Intensity: {median_val}\")\n",
    "print(f\"Variance of Intensities: {variance_val}\")"
   ],
   "outputs": [
    {
     "name": "stdout",
     "output_type": "stream",
     "text": [
      "Minimum Intensity: -26.207995\n",
      "Maximum Intensity: 4192.00796\n",
      "Mean Intensity: 353.5788310743647\n",
      "Median Intensity: 6.333447\n",
      "Variance of Intensities: 399012.83902535564\n"
     ]
    }
   ],
   "execution_count": 7
  },
  {
   "cell_type": "code",
   "id": "a27c2203",
   "metadata": {
    "ExecuteTime": {
     "end_time": "2024-12-13T11:01:57.789591Z",
     "start_time": "2024-12-13T11:01:57.758060Z"
    }
   },
   "source": [
    "data_stg3.describe()"
   ],
   "outputs": [
    {
     "data": {
      "text/plain": [
       "                                time  Stage3_OutputPower  Stage3_Piezo  \\\n",
       "count                           7834         7834.000000   7834.000000   \n",
       "mean   2024-06-17 10:18:22.102510848            1.927097     -0.393878   \n",
       "min    2024-06-17 10:08:10.347822666            1.684960     -1.614288   \n",
       "25%    2024-06-17 10:13:35.832232704            1.863999     -0.815552   \n",
       "50%    2024-06-17 10:18:23.038426880            1.914118     -0.351685   \n",
       "75%    2024-06-17 10:23:07.504600576            1.975079      0.020722   \n",
       "max    2024-06-17 10:27:56.776968002            2.263430      1.054535   \n",
       "std                              NaN            0.086662      0.554441   \n",
       "\n",
       "       Stage3_Stepper          idx  stepper_diff  \n",
       "count     7834.000000  7834.000000   7834.000000  \n",
       "mean   -319752.763467    72.587695      4.506127  \n",
       "min    -338208.000000     0.000000      0.000000  \n",
       "25%    -327457.000000    40.000000      0.000000  \n",
       "50%    -318127.000000    80.000000      0.000000  \n",
       "75%    -309020.000000   116.000000      0.000000  \n",
       "max    -302907.000000   142.000000    672.000000  \n",
       "std      10338.457573    42.400572     35.734292  "
      ],
      "text/html": [
       "<div>\n",
       "<style scoped>\n",
       "    .dataframe tbody tr th:only-of-type {\n",
       "        vertical-align: middle;\n",
       "    }\n",
       "\n",
       "    .dataframe tbody tr th {\n",
       "        vertical-align: top;\n",
       "    }\n",
       "\n",
       "    .dataframe thead th {\n",
       "        text-align: right;\n",
       "    }\n",
       "</style>\n",
       "<table border=\"1\" class=\"dataframe\">\n",
       "  <thead>\n",
       "    <tr style=\"text-align: right;\">\n",
       "      <th></th>\n",
       "      <th>time</th>\n",
       "      <th>Stage3_OutputPower</th>\n",
       "      <th>Stage3_Piezo</th>\n",
       "      <th>Stage3_Stepper</th>\n",
       "      <th>idx</th>\n",
       "      <th>stepper_diff</th>\n",
       "    </tr>\n",
       "  </thead>\n",
       "  <tbody>\n",
       "    <tr>\n",
       "      <th>count</th>\n",
       "      <td>7834</td>\n",
       "      <td>7834.000000</td>\n",
       "      <td>7834.000000</td>\n",
       "      <td>7834.000000</td>\n",
       "      <td>7834.000000</td>\n",
       "      <td>7834.000000</td>\n",
       "    </tr>\n",
       "    <tr>\n",
       "      <th>mean</th>\n",
       "      <td>2024-06-17 10:18:22.102510848</td>\n",
       "      <td>1.927097</td>\n",
       "      <td>-0.393878</td>\n",
       "      <td>-319752.763467</td>\n",
       "      <td>72.587695</td>\n",
       "      <td>4.506127</td>\n",
       "    </tr>\n",
       "    <tr>\n",
       "      <th>min</th>\n",
       "      <td>2024-06-17 10:08:10.347822666</td>\n",
       "      <td>1.684960</td>\n",
       "      <td>-1.614288</td>\n",
       "      <td>-338208.000000</td>\n",
       "      <td>0.000000</td>\n",
       "      <td>0.000000</td>\n",
       "    </tr>\n",
       "    <tr>\n",
       "      <th>25%</th>\n",
       "      <td>2024-06-17 10:13:35.832232704</td>\n",
       "      <td>1.863999</td>\n",
       "      <td>-0.815552</td>\n",
       "      <td>-327457.000000</td>\n",
       "      <td>40.000000</td>\n",
       "      <td>0.000000</td>\n",
       "    </tr>\n",
       "    <tr>\n",
       "      <th>50%</th>\n",
       "      <td>2024-06-17 10:18:23.038426880</td>\n",
       "      <td>1.914118</td>\n",
       "      <td>-0.351685</td>\n",
       "      <td>-318127.000000</td>\n",
       "      <td>80.000000</td>\n",
       "      <td>0.000000</td>\n",
       "    </tr>\n",
       "    <tr>\n",
       "      <th>75%</th>\n",
       "      <td>2024-06-17 10:23:07.504600576</td>\n",
       "      <td>1.975079</td>\n",
       "      <td>0.020722</td>\n",
       "      <td>-309020.000000</td>\n",
       "      <td>116.000000</td>\n",
       "      <td>0.000000</td>\n",
       "    </tr>\n",
       "    <tr>\n",
       "      <th>max</th>\n",
       "      <td>2024-06-17 10:27:56.776968002</td>\n",
       "      <td>2.263430</td>\n",
       "      <td>1.054535</td>\n",
       "      <td>-302907.000000</td>\n",
       "      <td>142.000000</td>\n",
       "      <td>672.000000</td>\n",
       "    </tr>\n",
       "    <tr>\n",
       "      <th>std</th>\n",
       "      <td>NaN</td>\n",
       "      <td>0.086662</td>\n",
       "      <td>0.554441</td>\n",
       "      <td>10338.457573</td>\n",
       "      <td>42.400572</td>\n",
       "      <td>35.734292</td>\n",
       "    </tr>\n",
       "  </tbody>\n",
       "</table>\n",
       "</div>"
      ]
     },
     "execution_count": 8,
     "metadata": {},
     "output_type": "execute_result"
    }
   ],
   "execution_count": 8
  },
  {
   "cell_type": "markdown",
   "id": "95271bad",
   "metadata": {},
   "source": [
    "### Distribution of wavelength intesities"
   ]
  },
  {
   "cell_type": "code",
   "id": "2465650f",
   "metadata": {
    "ExecuteTime": {
     "end_time": "2024-12-13T11:02:01.755543Z",
     "start_time": "2024-12-13T11:02:01.748698Z"
    }
   },
   "source": [
    "def custom_bin_histogram(data_array, label, bins=None):\n",
    "    \n",
    "    if bins is None:\n",
    "        bins = [-np.inf] + list(np.arange(-20, 4000, 50)) + [np.inf]\n",
    "\n",
    "    # Generate labels for bins\n",
    "    bin_labels = [f\"<{bins[i]},{bins[i+1]})\" for i in range(len(bins)-1)]\n",
    "\n",
    "    # Bin the data\n",
    "    binned_counts, _ = np.histogram(data_array, bins=bins)\n",
    "\n",
    "    print(\"Bin counts:\")\n",
    "    for i, count in enumerate(binned_counts):\n",
    "        print(f\"  {bin_labels[i]}: {count} values\", end=\", \")\n",
    "\n",
    "    plt.figure(figsize=(12, 6))\n",
    "    plt.bar(bin_labels, \n",
    "            binned_counts, \n",
    "            color='blue', \n",
    "            alpha=0.7, \n",
    "            edgecolor='black')\n",
    "    \n",
    "    plt.title(label)\n",
    "    plt.xlabel(\"Value Range\")\n",
    "    plt.ylabel(\"Frequency\")\n",
    "    plt.xticks(rotation=90)\n",
    "    plt.grid(axis='y', alpha=0.75)\n",
    "    plt.tight_layout()\n",
    "    plt.show()\n"
   ],
   "outputs": [],
   "execution_count": 9
  },
  {
   "cell_type": "code",
   "id": "488cf67d",
   "metadata": {
    "ExecuteTime": {
     "end_time": "2024-12-13T11:02:04.138786Z",
     "start_time": "2024-12-13T11:02:02.606170Z"
    }
   },
   "source": [
    "custom_bin_histogram(all_intensities_stg3, \"Distribution of wavelength intensities on stage 3\")"
   ],
   "outputs": [
    {
     "name": "stdout",
     "output_type": "stream",
     "text": [
      "Bin counts:\n",
      "  <-inf,-20): 3158 values,   <-20,30): 5292695 values,   <30,80): 105801 values,   <80,130): 60370 values,   <130,180): 46796 values,   <180,230): 39381 values,   <230,280): 35297 values,   <280,330): 32391 values,   <330,380): 30470 values,   <380,430): 28992 values,   <430,480): 35963 values,   <480,530): 60299 values,   <530,580): 90884 values,   <580,630): 64204 values,   <630,680): 58728 values,   <680,730): 66236 values,   <730,780): 95906 values,   <780,830): 129200 values,   <830,880): 145973 values,   <880,930): 216986 values,   <930,980): 226795 values,   <980,1030): 203649 values,   <1030,1080): 125762 values,   <1080,1130): 83510 values,   <1130,1180): 57877 values,   <1180,1230): 48084 values,   <1230,1280): 45354 values,   <1280,1330): 42246 values,   <1330,1380): 39173 values,   <1380,1430): 34273 values,   <1430,1480): 27744 values,   <1480,1530): 21950 values,   <1530,1580): 18937 values,   <1580,1630): 20127 values,   <1630,1680): 21821 values,   <1680,1730): 26241 values,   <1730,1780): 28174 values,   <1780,1830): 30075 values,   <1830,1880): 31013 values,   <1880,1930): 27733 values,   <1930,1980): 25069 values,   <1980,2030): 21013 values,   <2030,2080): 16496 values,   <2080,2130): 9868 values,   <2130,2180): 5733 values,   <2180,2230): 4926 values,   <2230,2280): 3800 values,   <2280,2330): 2877 values,   <2330,2380): 2724 values,   <2380,2430): 3056 values,   <2430,2480): 3536 values,   <2480,2530): 4440 values,   <2530,2580): 4688 values,   <2580,2630): 4623 values,   <2630,2680): 3868 values,   <2680,2730): 3018 values,   <2730,2780): 1808 values,   <2780,2830): 1916 values,   <2830,2880): 2545 values,   <2880,2930): 4003 values,   <2930,2980): 3607 values,   <2980,3030): 3071 values,   <3030,3080): 3231 values,   <3080,3130): 3551 values,   <3130,3180): 3341 values,   <3180,3230): 3207 values,   <3230,3280): 3276 values,   <3280,3330): 3695 values,   <3330,3380): 3807 values,   <3380,3430): 3539 values,   <3430,3480): 3948 values,   <3480,3530): 4000 values,   <3530,3580): 3711 values,   <3580,3630): 3367 values,   <3630,3680): 3548 values,   <3680,3730): 5040 values,   <3730,3780): 6323 values,   <3780,3830): 7189 values,   <3830,3880): 7084 values,   <3880,3930): 5754 values,   <3930,3980): 4108 values,   <3980,inf): 3344 values, "
     ]
    },
    {
     "data": {
      "text/plain": [
       "<Figure size 1200x600 with 1 Axes>"
      ],
      "image/png": "[encoded data removed]"
     },
     "metadata": {},
     "output_type": "display_data"
    }
   ],
   "execution_count": 10
  },
  {
   "cell_type": "code",
   "id": "7f835e84",
   "metadata": {
    "ExecuteTime": {
     "end_time": "2024-12-13T11:02:07.597370Z",
     "start_time": "2024-12-13T11:02:04.555058Z"
    }
   },
   "source": [
    "wavelengths = np.array(eval(data_stg3['Wavelengths'].iloc[0]))\n",
    "intensities = data_stg3['intensities']\n",
    "\n",
    "create_spectrogram(wavelengths, intensities, label=\"Spectrogram of Intensities by Wavelength - Stage 3\")"
   ],
   "outputs": [
    {
     "data": {
      "text/plain": [
       "<Figure size 1200x600 with 2 Axes>"
      ],
      "image/png": "[encoded data removed]"
     },
     "metadata": {},
     "output_type": "display_data"
    }
   ],
   "execution_count": 11
  },
  {
   "metadata": {},
   "cell_type": "markdown",
   "source": "### Cut ends",
   "id": "a3592699f4b232ae"
  },
  {
   "metadata": {
    "ExecuteTime": {
     "end_time": "2024-12-13T11:02:09.570582Z",
     "start_time": "2024-12-13T11:02:09.531013Z"
    }
   },
   "cell_type": "code",
   "source": [
    "intensity_matrix = np.vstack(intensities)\n",
    "\n",
    "mask = (intensity_matrix <= 30).all(axis=0)"
   ],
   "id": "ff39586726ad198",
   "outputs": [],
   "execution_count": 12
  },
  {
   "metadata": {
    "ExecuteTime": {
     "end_time": "2024-12-13T11:02:10.348275Z",
     "start_time": "2024-12-13T11:02:10.341962Z"
    }
   },
   "cell_type": "code",
   "source": [
    "def add_falses(array, target_falses):\n",
    "    current_falses = np.sum(~array)\n",
    "\n",
    "    additional_falses = target_falses - current_falses\n",
    "    \n",
    "    if additional_falses <= 0:\n",
    "        return array\n",
    "\n",
    "    mid_start = np.where(array == False)[0][0]\n",
    "    mid_end = np.where(array == False)[0][-1]\n",
    "\n",
    "    right_falses = additional_falses // 2\n",
    "    left_falses = additional_falses - right_falses\n",
    "\n",
    "    array[max(0, mid_start - left_falses):mid_start] = False\n",
    "    array[mid_end + 1:mid_end + 1 + right_falses] = False\n",
    "    \n",
    "    return array\n",
    "\n",
    "print(\"Number of False values:\", np.sum(~mask))\n",
    "mask = add_falses(mask, 512)\n",
    "print(\"Number of False values:\", np.sum(~mask))\n",
    "\n",
    "np.save('data/wavelengths_mask.npy', mask)"
   ],
   "id": "49598292c90a455f",
   "outputs": [
    {
     "name": "stdout",
     "output_type": "stream",
     "text": [
      "Number of False values: 421\n",
      "Number of False values: 512\n"
     ]
    }
   ],
   "execution_count": 13
  },
  {
   "metadata": {
    "ExecuteTime": {
     "end_time": "2024-12-13T19:48:50.606044Z",
     "start_time": "2024-12-13T19:48:50.600832Z"
    }
   },
   "cell_type": "code",
   "source": "np.save('data/wavelengths_mask.npy', mask)",
   "id": "7c493ced04aed736",
   "outputs": [],
   "execution_count": 35
  },
  {
   "metadata": {
    "ExecuteTime": {
     "end_time": "2024-12-13T11:02:12.831608Z",
     "start_time": "2024-12-13T11:02:12.776577Z"
    }
   },
   "cell_type": "code",
   "source": [
    "def cut_zero_ends(df, wavelengths=None, mask=None):\n",
    "    if wavelengths is None:\n",
    "        wavelengths = np.load('data/wavelengths.npy')\n",
    "    if mask is None:\n",
    "        mask = np.load('data/wavelengths_mask.npy')\n",
    "    \n",
    "    filtered_wavelengths = wavelengths[~mask]\n",
    "    df['intensities'] = df['intensities'].apply(\n",
    "        lambda x: x[~mask]\n",
    "    )\n",
    "    return filtered_wavelengths, df\n",
    "\n",
    "wavelengths, data_stg3 = cut_zero_ends(data_stg3, wavelengths=wavelengths, mask=mask)\n",
    "intensities = data_stg3['intensities']"
   ],
   "id": "d24f451bbd5e107b",
   "outputs": [],
   "execution_count": 14
  },
  {
   "metadata": {
    "ExecuteTime": {
     "end_time": "2024-12-13T11:02:14.644161Z",
     "start_time": "2024-12-13T11:02:14.630318Z"
    }
   },
   "cell_type": "code",
   "source": [
    "def check_list_lengths(df, column, expected_length):\n",
    "    return df[column].apply(\n",
    "        lambda x: len(x)\n",
    "    ).eq(expected_length).all()\n",
    "\n",
    "expected_length = 512\n",
    "result = check_list_lengths(data_stg3, \"intensities\", expected_length)\n",
    "\n",
    "print(\"All rows have lists of length 512:\", result)"
   ],
   "id": "c42c4e0c551d7816",
   "outputs": [
    {
     "name": "stdout",
     "output_type": "stream",
     "text": [
      "All rows have lists of length 512: True\n"
     ]
    }
   ],
   "execution_count": 15
  },
  {
   "metadata": {
    "ExecuteTime": {
     "end_time": "2024-12-13T11:02:56.852274Z",
     "start_time": "2024-12-13T11:02:54.856855Z"
    }
   },
   "cell_type": "code",
   "source": "create_spectrogram(wavelengths, data_stg3[\"intensities\"], label=\"Spectrogram of Intensities by Wavelength - Stage 3\")",
   "id": "985c66042d2ecf7a",
   "outputs": [
    {
     "data": {
      "text/plain": [
       "<Figure size 1200x600 with 2 Axes>"
      ],
      "image/png": "[encoded data removed]"
     },
     "metadata": {},
     "output_type": "display_data"
    }
   ],
   "execution_count": 20
  },
  {
   "cell_type": "markdown",
   "id": "aff5fa07",
   "metadata": {},
   "source": [
    "## Identify outliers"
   ]
  },
  {
   "cell_type": "code",
   "id": "e7896748",
   "metadata": {
    "ExecuteTime": {
     "end_time": "2024-12-13T11:03:21.283768Z",
     "start_time": "2024-12-13T11:03:21.273728Z"
    }
   },
   "source": [
    "def analyze_outliers(data, lower_percentile, upper_percentile):\n",
    "    \"\"\"\n",
    "    Analyzes data for outliers based on specified percentile bounds and generates a histogram.\n",
    "    \n",
    "    Parameters:\n",
    "        data (array-like): The data to analyze.\n",
    "        lower_percentile (float): The lower percentile for calculating bounds (e.g., 0.1).\n",
    "        upper_percentile (float): The upper percentile for calculating bounds (e.g., 99.9).\n",
    "    \n",
    "    Returns:\n",
    "        tuple: A tuple containing the lower bound and upper bound.\n",
    "    \"\"\"\n",
    "    # Calculate lower and upper bounds\n",
    "    lower_bound = np.percentile(data, lower_percentile)\n",
    "    upper_bound = np.percentile(data, upper_percentile)\n",
    "\n",
    "    print(f\"Typical range: {lower_bound} to {upper_bound}\")\n",
    "\n",
    "    # Identify outliers\n",
    "    outliers = data[(data < lower_bound) | (data > upper_bound)]\n",
    "    print(f\"Outliers: {outliers}\")\n",
    "\n",
    "    # Plot histogram with bounds\n",
    "    plt.hist(data, bins=50, alpha=0.7, label=\"Original Data\")\n",
    "    plt.axvline(lower_bound, color='r', linestyle='--', label=f\"{lower_percentile}th Percentile\")\n",
    "    plt.axvline(upper_bound, color='g', linestyle='--', label=f\"{upper_percentile}th Percentile\")\n",
    "    plt.legend()\n",
    "    plt.title(\"Data Distribution with Outlier Bounds\")\n",
    "    plt.xlabel(\"Values\")\n",
    "    plt.ylabel(\"Frequency\")\n",
    "    plt.show()\n",
    "\n",
    "    return lower_bound, upper_bound\n"
   ],
   "outputs": [],
   "execution_count": 21
  },
  {
   "cell_type": "code",
   "id": "98410a9a",
   "metadata": {
    "ExecuteTime": {
     "end_time": "2024-12-13T11:03:22.929837Z",
     "start_time": "2024-12-13T11:03:22.480763Z"
    }
   },
   "source": [
    "all_intensities_stg3 = np.concatenate(data_stg3['intensities'])\n",
    "lower_bound_int, upper_bound_int = analyze_outliers(all_intensities_stg3, \n",
    "                                            0.1, \n",
    "                                            99.9)\n",
    "# change lower bound to 0\n",
    "lower_bound_int = 0"
   ],
   "outputs": [
    {
     "name": "stdout",
     "output_type": "stream",
     "text": [
      "Typical range: -7.037199 to 3968.977391\n",
      "Outliers: [-8.305629 -8.305629 -8.305629 ... -7.305629 -7.305629 -7.305629]\n"
     ]
    },
    {
     "data": {
      "text/plain": [
       "<Figure size 640x480 with 1 Axes>"
      ],
      "image/png": "[encoded data removed]"
     },
     "metadata": {},
     "output_type": "display_data"
    }
   ],
   "execution_count": 22
  },
  {
   "cell_type": "code",
   "id": "d2aadfe2",
   "metadata": {
    "ExecuteTime": {
     "end_time": "2024-12-13T11:03:30.872615Z",
     "start_time": "2024-12-13T11:03:30.566818Z"
    }
   },
   "source": [
    "lower_bound_op, upper_bound_op = analyze_outliers(data_stg3.Stage3_OutputPower.values, \n",
    "                                            0.1, \n",
    "                                            99.9)"
   ],
   "outputs": [
    {
     "name": "stdout",
     "output_type": "stream",
     "text": [
      "Typical range: 1.698786 to 2.215926\n",
      "Outliers: [2.223322 2.248488 2.26343  2.243279 2.243279 2.220513 2.220513 1.68496\n",
      " 1.68496  1.68496  1.68496  1.695206 1.695206]\n"
     ]
    },
    {
     "data": {
      "text/plain": [
       "<Figure size 640x480 with 1 Axes>"
      ],
      "image/png": "[encoded data removed]"
     },
     "metadata": {},
     "output_type": "display_data"
    }
   ],
   "execution_count": 23
  },
  {
   "cell_type": "code",
   "id": "30bcfdd5",
   "metadata": {
    "ExecuteTime": {
     "end_time": "2024-12-13T11:03:35.693865Z",
     "start_time": "2024-12-13T11:03:35.351562Z"
    }
   },
   "source": [
    "lower_bound_piezo, upper_bound_piezo = analyze_outliers(data_stg3.Stage3_Piezo.values, \n",
    "                                            0.1, \n",
    "                                            99.9)"
   ],
   "outputs": [
    {
     "name": "stdout",
     "output_type": "stream",
     "text": [
      "Typical range: -1.589966 to 1.038879\n",
      "Outliers: [-1.598083 -1.598083 -1.598083  1.054535  1.054535  1.054535  1.054535\n",
      "  1.040131  1.040131 -1.614288 -1.614288 -1.614288 -1.614288]\n"
     ]
    },
    {
     "data": {
      "text/plain": [
       "<Figure size 640x480 with 1 Axes>"
      ],
      "image/png": "[encoded data removed]"
     },
     "metadata": {},
     "output_type": "display_data"
    }
   ],
   "execution_count": 24
  },
  {
   "cell_type": "code",
   "id": "6ff0bc5f",
   "metadata": {
    "ExecuteTime": {
     "end_time": "2024-12-13T11:03:37.664308Z",
     "start_time": "2024-12-13T11:03:37.328476Z"
    }
   },
   "source": [
    "lower_bound_stpdiff, upper_bound_stpdiff = analyze_outliers(data_stg3.stepper_diff.values, \n",
    "                                            0.1, \n",
    "                                            100)"
   ],
   "outputs": [
    {
     "name": "stdout",
     "output_type": "stream",
     "text": [
      "Typical range: 0.0 to 672.0\n",
      "Outliers: []\n"
     ]
    },
    {
     "data": {
      "text/plain": [
       "<Figure size 640x480 with 1 Axes>"
      ],
      "image/png": "[encoded data removed]"
     },
     "metadata": {},
     "output_type": "display_data"
    }
   ],
   "execution_count": 25
  },
  {
   "cell_type": "markdown",
   "id": "75b870a2",
   "metadata": {},
   "source": [
    "## Normalization"
   ]
  },
  {
   "cell_type": "markdown",
   "id": "9596b0b6",
   "metadata": {},
   "source": [
    "### Intensities"
   ]
  },
  {
   "cell_type": "code",
   "id": "140d41d7",
   "metadata": {
    "scrolled": true,
    "ExecuteTime": {
     "end_time": "2024-12-13T11:04:54.558469Z",
     "start_time": "2024-12-13T11:04:54.552360Z"
    }
   },
   "source": [
    "def clip_and_normalize(data, lower_bound, upper_bound):\n",
    "    # Clip the data\n",
    "    clipped_data = np.clip(data, lower_bound, upper_bound)\n",
    "    \n",
    "    # Normalize the clipped data between 0 and 1\n",
    "    min_val = lower_bound\n",
    "    max_val = upper_bound\n",
    "    \n",
    "    normalized_data = (clipped_data - min_val) / (max_val - min_val)\n",
    "    \n",
    "    return normalized_data"
   ],
   "outputs": [],
   "execution_count": 26
  },
  {
   "cell_type": "code",
   "id": "b65d7597",
   "metadata": {
    "ExecuteTime": {
     "end_time": "2024-12-13T11:04:59.278317Z",
     "start_time": "2024-12-13T11:04:59.090701Z"
    }
   },
   "source": [
    "data_stg3['intensities'] = data_stg3['intensities'].apply(lambda x: clip_and_normalize(x, \n",
    "                                                    lower_bound_int, \n",
    "                                                    upper_bound_int))\n",
    "data_stg3.head()"
   ],
   "outputs": [
    {
     "data": {
      "text/plain": [
       "                           time  Stage3_OutputPower  Stage3_Piezo  \\\n",
       "0 2024-06-17 10:08:10.347822666            2.082440           0.0   \n",
       "1 2024-06-17 10:08:10.431182861            2.146321           0.0   \n",
       "2 2024-06-17 10:08:10.852890968            2.146321           0.0   \n",
       "3 2024-06-17 10:08:10.929437160            2.215926           0.0   \n",
       "4 2024-06-17 10:08:10.933794975            2.215926           0.0   \n",
       "\n",
       "   Stage3_Stepper                                        intensities  \\\n",
       "0       -338208.0  [0.0019075225818034902, 0.001176234969386854, ...   \n",
       "1       -338208.0  [0.0019075225818034902, 0.001176234969386854, ...   \n",
       "2       -337925.0  [0.0019075225818034902, 0.001176234969386854, ...   \n",
       "3       -337925.0  [0.0019075225818034902, 0.0004203727649805602,...   \n",
       "4       -337925.0  [0.0019075225818034902, 0.0004203727649805602,...   \n",
       "\n",
       "                                         Wavelengths  idx  stepper_diff  \n",
       "0  [634.835144, 635.296997, 635.758911, 636.22082...    0           0.0  \n",
       "1  [634.835144, 635.296997, 635.758911, 636.22082...    0           0.0  \n",
       "2  [634.835144, 635.296997, 635.758911, 636.22082...    1         283.0  \n",
       "3  [634.835144, 635.296997, 635.758911, 636.22082...    1           0.0  \n",
       "4  [634.835144, 635.296997, 635.758911, 636.22082...    1           0.0  "
      ],
      "text/html": [
       "<div>\n",
       "<style scoped>\n",
       "    .dataframe tbody tr th:only-of-type {\n",
       "        vertical-align: middle;\n",
       "    }\n",
       "\n",
       "    .dataframe tbody tr th {\n",
       "        vertical-align: top;\n",
       "    }\n",
       "\n",
       "    .dataframe thead th {\n",
       "        text-align: right;\n",
       "    }\n",
       "</style>\n",
       "<table border=\"1\" class=\"dataframe\">\n",
       "  <thead>\n",
       "    <tr style=\"text-align: right;\">\n",
       "      <th></th>\n",
       "      <th>time</th>\n",
       "      <th>Stage3_OutputPower</th>\n",
       "      <th>Stage3_Piezo</th>\n",
       "      <th>Stage3_Stepper</th>\n",
       "      <th>intensities</th>\n",
       "      <th>Wavelengths</th>\n",
       "      <th>idx</th>\n",
       "      <th>stepper_diff</th>\n",
       "    </tr>\n",
       "  </thead>\n",
       "  <tbody>\n",
       "    <tr>\n",
       "      <th>0</th>\n",
       "      <td>2024-06-17 10:08:10.347822666</td>\n",
       "      <td>2.082440</td>\n",
       "      <td>0.0</td>\n",
       "      <td>-338208.0</td>\n",
       "      <td>[0.0019075225818034902, 0.001176234969386854, ...</td>\n",
       "      <td>[634.835144, 635.296997, 635.758911, 636.22082...</td>\n",
       "      <td>0</td>\n",
       "      <td>0.0</td>\n",
       "    </tr>\n",
       "    <tr>\n",
       "      <th>1</th>\n",
       "      <td>2024-06-17 10:08:10.431182861</td>\n",
       "      <td>2.146321</td>\n",
       "      <td>0.0</td>\n",
       "      <td>-338208.0</td>\n",
       "      <td>[0.0019075225818034902, 0.001176234969386854, ...</td>\n",
       "      <td>[634.835144, 635.296997, 635.758911, 636.22082...</td>\n",
       "      <td>0</td>\n",
       "      <td>0.0</td>\n",
       "    </tr>\n",
       "    <tr>\n",
       "      <th>2</th>\n",
       "      <td>2024-06-17 10:08:10.852890968</td>\n",
       "      <td>2.146321</td>\n",
       "      <td>0.0</td>\n",
       "      <td>-337925.0</td>\n",
       "      <td>[0.0019075225818034902, 0.001176234969386854, ...</td>\n",
       "      <td>[634.835144, 635.296997, 635.758911, 636.22082...</td>\n",
       "      <td>1</td>\n",
       "      <td>283.0</td>\n",
       "    </tr>\n",
       "    <tr>\n",
       "      <th>3</th>\n",
       "      <td>2024-06-17 10:08:10.929437160</td>\n",
       "      <td>2.215926</td>\n",
       "      <td>0.0</td>\n",
       "      <td>-337925.0</td>\n",
       "      <td>[0.0019075225818034902, 0.0004203727649805602,...</td>\n",
       "      <td>[634.835144, 635.296997, 635.758911, 636.22082...</td>\n",
       "      <td>1</td>\n",
       "      <td>0.0</td>\n",
       "    </tr>\n",
       "    <tr>\n",
       "      <th>4</th>\n",
       "      <td>2024-06-17 10:08:10.933794975</td>\n",
       "      <td>2.215926</td>\n",
       "      <td>0.0</td>\n",
       "      <td>-337925.0</td>\n",
       "      <td>[0.0019075225818034902, 0.0004203727649805602,...</td>\n",
       "      <td>[634.835144, 635.296997, 635.758911, 636.22082...</td>\n",
       "      <td>1</td>\n",
       "      <td>0.0</td>\n",
       "    </tr>\n",
       "  </tbody>\n",
       "</table>\n",
       "</div>"
      ]
     },
     "execution_count": 27,
     "metadata": {},
     "output_type": "execute_result"
    }
   ],
   "execution_count": 27
  },
  {
   "cell_type": "code",
   "id": "0e558a68",
   "metadata": {
    "ExecuteTime": {
     "end_time": "2024-12-13T11:05:01.439584Z",
     "start_time": "2024-12-13T11:05:01.366556Z"
    }
   },
   "source": [
    "# Flatten the intensities into a single list\n",
    "all_intensities_stg3 = np.concatenate(data_stg3['intensities'].values)\n",
    "\n",
    "# Calculate statistics\n",
    "min_val = np.min(all_intensities_stg3)\n",
    "max_val = np.max(all_intensities_stg3)\n",
    "mean_val = np.mean(all_intensities_stg3)\n",
    "median_val = np.median(all_intensities_stg3)\n",
    "variance_val = np.var(all_intensities_stg3)\n",
    "\n",
    "# Print statistics\n",
    "print(f\"Minimum Intensity: {min_val}\")\n",
    "print(f\"Maximum Intensity: {max_val}\")\n",
    "print(f\"Mean Intensity: {mean_val}\")\n",
    "print(f\"Median Intensity: {median_val}\")\n",
    "print(f\"Variance of Intensities: {variance_val}\")"
   ],
   "outputs": [
    {
     "name": "stdout",
     "output_type": "stream",
     "text": [
      "Minimum Intensity: 0.0\n",
      "Maximum Intensity: 1.0\n",
      "Mean Intensity: 0.17736054852127545\n",
      "Median Intensity: 0.17783632695931373\n",
      "Variance of Intensities: 0.03504840349652237\n"
     ]
    }
   ],
   "execution_count": 28
  },
  {
   "cell_type": "markdown",
   "id": "4f8c55d8",
   "metadata": {},
   "source": [
    "### Conditional vector"
   ]
  },
  {
   "cell_type": "code",
   "id": "0b95fc55",
   "metadata": {
    "ExecuteTime": {
     "end_time": "2024-12-13T11:05:08.667565Z",
     "start_time": "2024-12-13T11:05:08.641895Z"
    }
   },
   "source": [
    "data_stg3['Stage3_OutputPower'] = clip_and_normalize(data_stg3['Stage3_OutputPower'], \n",
    "                                                    lower_bound_op, \n",
    "                                                    upper_bound_op)\n",
    "data_stg3.head()"
   ],
   "outputs": [
    {
     "data": {
      "text/plain": [
       "                           time  Stage3_OutputPower  Stage3_Piezo  \\\n",
       "0 2024-06-17 10:08:10.347822666            0.741876           0.0   \n",
       "1 2024-06-17 10:08:10.431182861            0.865404           0.0   \n",
       "2 2024-06-17 10:08:10.852890968            0.865404           0.0   \n",
       "3 2024-06-17 10:08:10.929437160            1.000000           0.0   \n",
       "4 2024-06-17 10:08:10.933794975            1.000000           0.0   \n",
       "\n",
       "   Stage3_Stepper                                        intensities  \\\n",
       "0       -338208.0  [0.0019075225818034902, 0.001176234969386854, ...   \n",
       "1       -338208.0  [0.0019075225818034902, 0.001176234969386854, ...   \n",
       "2       -337925.0  [0.0019075225818034902, 0.001176234969386854, ...   \n",
       "3       -337925.0  [0.0019075225818034902, 0.0004203727649805602,...   \n",
       "4       -337925.0  [0.0019075225818034902, 0.0004203727649805602,...   \n",
       "\n",
       "                                         Wavelengths  idx  stepper_diff  \n",
       "0  [634.835144, 635.296997, 635.758911, 636.22082...    0           0.0  \n",
       "1  [634.835144, 635.296997, 635.758911, 636.22082...    0           0.0  \n",
       "2  [634.835144, 635.296997, 635.758911, 636.22082...    1         283.0  \n",
       "3  [634.835144, 635.296997, 635.758911, 636.22082...    1           0.0  \n",
       "4  [634.835144, 635.296997, 635.758911, 636.22082...    1           0.0  "
      ],
      "text/html": [
       "<div>\n",
       "<style scoped>\n",
       "    .dataframe tbody tr th:only-of-type {\n",
       "        vertical-align: middle;\n",
       "    }\n",
       "\n",
       "    .dataframe tbody tr th {\n",
       "        vertical-align: top;\n",
       "    }\n",
       "\n",
       "    .dataframe thead th {\n",
       "        text-align: right;\n",
       "    }\n",
       "</style>\n",
       "<table border=\"1\" class=\"dataframe\">\n",
       "  <thead>\n",
       "    <tr style=\"text-align: right;\">\n",
       "      <th></th>\n",
       "      <th>time</th>\n",
       "      <th>Stage3_OutputPower</th>\n",
       "      <th>Stage3_Piezo</th>\n",
       "      <th>Stage3_Stepper</th>\n",
       "      <th>intensities</th>\n",
       "      <th>Wavelengths</th>\n",
       "      <th>idx</th>\n",
       "      <th>stepper_diff</th>\n",
       "    </tr>\n",
       "  </thead>\n",
       "  <tbody>\n",
       "    <tr>\n",
       "      <th>0</th>\n",
       "      <td>2024-06-17 10:08:10.347822666</td>\n",
       "      <td>0.741876</td>\n",
       "      <td>0.0</td>\n",
       "      <td>-338208.0</td>\n",
       "      <td>[0.0019075225818034902, 0.001176234969386854, ...</td>\n",
       "      <td>[634.835144, 635.296997, 635.758911, 636.22082...</td>\n",
       "      <td>0</td>\n",
       "      <td>0.0</td>\n",
       "    </tr>\n",
       "    <tr>\n",
       "      <th>1</th>\n",
       "      <td>2024-06-17 10:08:10.431182861</td>\n",
       "      <td>0.865404</td>\n",
       "      <td>0.0</td>\n",
       "      <td>-338208.0</td>\n",
       "      <td>[0.0019075225818034902, 0.001176234969386854, ...</td>\n",
       "      <td>[634.835144, 635.296997, 635.758911, 636.22082...</td>\n",
       "      <td>0</td>\n",
       "      <td>0.0</td>\n",
       "    </tr>\n",
       "    <tr>\n",
       "      <th>2</th>\n",
       "      <td>2024-06-17 10:08:10.852890968</td>\n",
       "      <td>0.865404</td>\n",
       "      <td>0.0</td>\n",
       "      <td>-337925.0</td>\n",
       "      <td>[0.0019075225818034902, 0.001176234969386854, ...</td>\n",
       "      <td>[634.835144, 635.296997, 635.758911, 636.22082...</td>\n",
       "      <td>1</td>\n",
       "      <td>283.0</td>\n",
       "    </tr>\n",
       "    <tr>\n",
       "      <th>3</th>\n",
       "      <td>2024-06-17 10:08:10.929437160</td>\n",
       "      <td>1.000000</td>\n",
       "      <td>0.0</td>\n",
       "      <td>-337925.0</td>\n",
       "      <td>[0.0019075225818034902, 0.0004203727649805602,...</td>\n",
       "      <td>[634.835144, 635.296997, 635.758911, 636.22082...</td>\n",
       "      <td>1</td>\n",
       "      <td>0.0</td>\n",
       "    </tr>\n",
       "    <tr>\n",
       "      <th>4</th>\n",
       "      <td>2024-06-17 10:08:10.933794975</td>\n",
       "      <td>1.000000</td>\n",
       "      <td>0.0</td>\n",
       "      <td>-337925.0</td>\n",
       "      <td>[0.0019075225818034902, 0.0004203727649805602,...</td>\n",
       "      <td>[634.835144, 635.296997, 635.758911, 636.22082...</td>\n",
       "      <td>1</td>\n",
       "      <td>0.0</td>\n",
       "    </tr>\n",
       "  </tbody>\n",
       "</table>\n",
       "</div>"
      ]
     },
     "execution_count": 29,
     "metadata": {},
     "output_type": "execute_result"
    }
   ],
   "execution_count": 29
  },
  {
   "cell_type": "code",
   "id": "c3ccb382",
   "metadata": {
    "ExecuteTime": {
     "end_time": "2024-12-13T11:05:09.592238Z",
     "start_time": "2024-12-13T11:05:09.572834Z"
    }
   },
   "source": [
    "data_stg3['Stage3_Piezo'] = clip_and_normalize(data_stg3['Stage3_Piezo'], \n",
    "                                                    lower_bound_piezo, \n",
    "                                                    upper_bound_piezo)\n",
    "data_stg3.head()"
   ],
   "outputs": [
    {
     "data": {
      "text/plain": [
       "                           time  Stage3_OutputPower  Stage3_Piezo  \\\n",
       "0 2024-06-17 10:08:10.347822666            0.741876      0.604815   \n",
       "1 2024-06-17 10:08:10.431182861            0.865404      0.604815   \n",
       "2 2024-06-17 10:08:10.852890968            0.865404      0.604815   \n",
       "3 2024-06-17 10:08:10.929437160            1.000000      0.604815   \n",
       "4 2024-06-17 10:08:10.933794975            1.000000      0.604815   \n",
       "\n",
       "   Stage3_Stepper                                        intensities  \\\n",
       "0       -338208.0  [0.0019075225818034902, 0.001176234969386854, ...   \n",
       "1       -338208.0  [0.0019075225818034902, 0.001176234969386854, ...   \n",
       "2       -337925.0  [0.0019075225818034902, 0.001176234969386854, ...   \n",
       "3       -337925.0  [0.0019075225818034902, 0.0004203727649805602,...   \n",
       "4       -337925.0  [0.0019075225818034902, 0.0004203727649805602,...   \n",
       "\n",
       "                                         Wavelengths  idx  stepper_diff  \n",
       "0  [634.835144, 635.296997, 635.758911, 636.22082...    0           0.0  \n",
       "1  [634.835144, 635.296997, 635.758911, 636.22082...    0           0.0  \n",
       "2  [634.835144, 635.296997, 635.758911, 636.22082...    1         283.0  \n",
       "3  [634.835144, 635.296997, 635.758911, 636.22082...    1           0.0  \n",
       "4  [634.835144, 635.296997, 635.758911, 636.22082...    1           0.0  "
      ],
      "text/html": [
       "<div>\n",
       "<style scoped>\n",
       "    .dataframe tbody tr th:only-of-type {\n",
       "        vertical-align: middle;\n",
       "    }\n",
       "\n",
       "    .dataframe tbody tr th {\n",
       "        vertical-align: top;\n",
       "    }\n",
       "\n",
       "    .dataframe thead th {\n",
       "        text-align: right;\n",
       "    }\n",
       "</style>\n",
       "<table border=\"1\" class=\"dataframe\">\n",
       "  <thead>\n",
       "    <tr style=\"text-align: right;\">\n",
       "      <th></th>\n",
       "      <th>time</th>\n",
       "      <th>Stage3_OutputPower</th>\n",
       "      <th>Stage3_Piezo</th>\n",
       "      <th>Stage3_Stepper</th>\n",
       "      <th>intensities</th>\n",
       "      <th>Wavelengths</th>\n",
       "      <th>idx</th>\n",
       "      <th>stepper_diff</th>\n",
       "    </tr>\n",
       "  </thead>\n",
       "  <tbody>\n",
       "    <tr>\n",
       "      <th>0</th>\n",
       "      <td>2024-06-17 10:08:10.347822666</td>\n",
       "      <td>0.741876</td>\n",
       "      <td>0.604815</td>\n",
       "      <td>-338208.0</td>\n",
       "      <td>[0.0019075225818034902, 0.001176234969386854, ...</td>\n",
       "      <td>[634.835144, 635.296997, 635.758911, 636.22082...</td>\n",
       "      <td>0</td>\n",
       "      <td>0.0</td>\n",
       "    </tr>\n",
       "    <tr>\n",
       "      <th>1</th>\n",
       "      <td>2024-06-17 10:08:10.431182861</td>\n",
       "      <td>0.865404</td>\n",
       "      <td>0.604815</td>\n",
       "      <td>-338208.0</td>\n",
       "      <td>[0.0019075225818034902, 0.001176234969386854, ...</td>\n",
       "      <td>[634.835144, 635.296997, 635.758911, 636.22082...</td>\n",
       "      <td>0</td>\n",
       "      <td>0.0</td>\n",
       "    </tr>\n",
       "    <tr>\n",
       "      <th>2</th>\n",
       "      <td>2024-06-17 10:08:10.852890968</td>\n",
       "      <td>0.865404</td>\n",
       "      <td>0.604815</td>\n",
       "      <td>-337925.0</td>\n",
       "      <td>[0.0019075225818034902, 0.001176234969386854, ...</td>\n",
       "      <td>[634.835144, 635.296997, 635.758911, 636.22082...</td>\n",
       "      <td>1</td>\n",
       "      <td>283.0</td>\n",
       "    </tr>\n",
       "    <tr>\n",
       "      <th>3</th>\n",
       "      <td>2024-06-17 10:08:10.929437160</td>\n",
       "      <td>1.000000</td>\n",
       "      <td>0.604815</td>\n",
       "      <td>-337925.0</td>\n",
       "      <td>[0.0019075225818034902, 0.0004203727649805602,...</td>\n",
       "      <td>[634.835144, 635.296997, 635.758911, 636.22082...</td>\n",
       "      <td>1</td>\n",
       "      <td>0.0</td>\n",
       "    </tr>\n",
       "    <tr>\n",
       "      <th>4</th>\n",
       "      <td>2024-06-17 10:08:10.933794975</td>\n",
       "      <td>1.000000</td>\n",
       "      <td>0.604815</td>\n",
       "      <td>-337925.0</td>\n",
       "      <td>[0.0019075225818034902, 0.0004203727649805602,...</td>\n",
       "      <td>[634.835144, 635.296997, 635.758911, 636.22082...</td>\n",
       "      <td>1</td>\n",
       "      <td>0.0</td>\n",
       "    </tr>\n",
       "  </tbody>\n",
       "</table>\n",
       "</div>"
      ]
     },
     "execution_count": 30,
     "metadata": {},
     "output_type": "execute_result"
    }
   ],
   "execution_count": 30
  },
  {
   "cell_type": "code",
   "id": "29fdf640",
   "metadata": {
    "ExecuteTime": {
     "end_time": "2024-12-13T11:05:10.444359Z",
     "start_time": "2024-12-13T11:05:10.426097Z"
    }
   },
   "source": [
    "data_stg3['stepper_diff'] = clip_and_normalize(data_stg3['stepper_diff'], \n",
    "                                                    lower_bound_stpdiff, \n",
    "                                                    upper_bound_stpdiff)\n",
    "data_stg3.head()"
   ],
   "outputs": [
    {
     "data": {
      "text/plain": [
       "                           time  Stage3_OutputPower  Stage3_Piezo  \\\n",
       "0 2024-06-17 10:08:10.347822666            0.741876      0.604815   \n",
       "1 2024-06-17 10:08:10.431182861            0.865404      0.604815   \n",
       "2 2024-06-17 10:08:10.852890968            0.865404      0.604815   \n",
       "3 2024-06-17 10:08:10.929437160            1.000000      0.604815   \n",
       "4 2024-06-17 10:08:10.933794975            1.000000      0.604815   \n",
       "\n",
       "   Stage3_Stepper                                        intensities  \\\n",
       "0       -338208.0  [0.0019075225818034902, 0.001176234969386854, ...   \n",
       "1       -338208.0  [0.0019075225818034902, 0.001176234969386854, ...   \n",
       "2       -337925.0  [0.0019075225818034902, 0.001176234969386854, ...   \n",
       "3       -337925.0  [0.0019075225818034902, 0.0004203727649805602,...   \n",
       "4       -337925.0  [0.0019075225818034902, 0.0004203727649805602,...   \n",
       "\n",
       "                                         Wavelengths  idx  stepper_diff  \n",
       "0  [634.835144, 635.296997, 635.758911, 636.22082...    0      0.000000  \n",
       "1  [634.835144, 635.296997, 635.758911, 636.22082...    0      0.000000  \n",
       "2  [634.835144, 635.296997, 635.758911, 636.22082...    1      0.421131  \n",
       "3  [634.835144, 635.296997, 635.758911, 636.22082...    1      0.000000  \n",
       "4  [634.835144, 635.296997, 635.758911, 636.22082...    1      0.000000  "
      ],
      "text/html": [
       "<div>\n",
       "<style scoped>\n",
       "    .dataframe tbody tr th:only-of-type {\n",
       "        vertical-align: middle;\n",
       "    }\n",
       "\n",
       "    .dataframe tbody tr th {\n",
       "        vertical-align: top;\n",
       "    }\n",
       "\n",
       "    .dataframe thead th {\n",
       "        text-align: right;\n",
       "    }\n",
       "</style>\n",
       "<table border=\"1\" class=\"dataframe\">\n",
       "  <thead>\n",
       "    <tr style=\"text-align: right;\">\n",
       "      <th></th>\n",
       "      <th>time</th>\n",
       "      <th>Stage3_OutputPower</th>\n",
       "      <th>Stage3_Piezo</th>\n",
       "      <th>Stage3_Stepper</th>\n",
       "      <th>intensities</th>\n",
       "      <th>Wavelengths</th>\n",
       "      <th>idx</th>\n",
       "      <th>stepper_diff</th>\n",
       "    </tr>\n",
       "  </thead>\n",
       "  <tbody>\n",
       "    <tr>\n",
       "      <th>0</th>\n",
       "      <td>2024-06-17 10:08:10.347822666</td>\n",
       "      <td>0.741876</td>\n",
       "      <td>0.604815</td>\n",
       "      <td>-338208.0</td>\n",
       "      <td>[0.0019075225818034902, 0.001176234969386854, ...</td>\n",
       "      <td>[634.835144, 635.296997, 635.758911, 636.22082...</td>\n",
       "      <td>0</td>\n",
       "      <td>0.000000</td>\n",
       "    </tr>\n",
       "    <tr>\n",
       "      <th>1</th>\n",
       "      <td>2024-06-17 10:08:10.431182861</td>\n",
       "      <td>0.865404</td>\n",
       "      <td>0.604815</td>\n",
       "      <td>-338208.0</td>\n",
       "      <td>[0.0019075225818034902, 0.001176234969386854, ...</td>\n",
       "      <td>[634.835144, 635.296997, 635.758911, 636.22082...</td>\n",
       "      <td>0</td>\n",
       "      <td>0.000000</td>\n",
       "    </tr>\n",
       "    <tr>\n",
       "      <th>2</th>\n",
       "      <td>2024-06-17 10:08:10.852890968</td>\n",
       "      <td>0.865404</td>\n",
       "      <td>0.604815</td>\n",
       "      <td>-337925.0</td>\n",
       "      <td>[0.0019075225818034902, 0.001176234969386854, ...</td>\n",
       "      <td>[634.835144, 635.296997, 635.758911, 636.22082...</td>\n",
       "      <td>1</td>\n",
       "      <td>0.421131</td>\n",
       "    </tr>\n",
       "    <tr>\n",
       "      <th>3</th>\n",
       "      <td>2024-06-17 10:08:10.929437160</td>\n",
       "      <td>1.000000</td>\n",
       "      <td>0.604815</td>\n",
       "      <td>-337925.0</td>\n",
       "      <td>[0.0019075225818034902, 0.0004203727649805602,...</td>\n",
       "      <td>[634.835144, 635.296997, 635.758911, 636.22082...</td>\n",
       "      <td>1</td>\n",
       "      <td>0.000000</td>\n",
       "    </tr>\n",
       "    <tr>\n",
       "      <th>4</th>\n",
       "      <td>2024-06-17 10:08:10.933794975</td>\n",
       "      <td>1.000000</td>\n",
       "      <td>0.604815</td>\n",
       "      <td>-337925.0</td>\n",
       "      <td>[0.0019075225818034902, 0.0004203727649805602,...</td>\n",
       "      <td>[634.835144, 635.296997, 635.758911, 636.22082...</td>\n",
       "      <td>1</td>\n",
       "      <td>0.000000</td>\n",
       "    </tr>\n",
       "  </tbody>\n",
       "</table>\n",
       "</div>"
      ]
     },
     "execution_count": 31,
     "metadata": {},
     "output_type": "execute_result"
    }
   ],
   "execution_count": 31
  },
  {
   "cell_type": "code",
   "id": "9e8e3a03",
   "metadata": {
    "ExecuteTime": {
     "end_time": "2024-12-13T11:05:11.333054Z",
     "start_time": "2024-12-13T11:05:11.303482Z"
    }
   },
   "source": [
    "data_stg3.describe()"
   ],
   "outputs": [
    {
     "data": {
      "text/plain": [
       "                                time  Stage3_OutputPower  Stage3_Piezo  \\\n",
       "count                           7834         7834.000000   7834.000000   \n",
       "mean   2024-06-17 10:18:22.102510848            0.441465      0.454989   \n",
       "min    2024-06-17 10:08:10.347822666            0.000000      0.000000   \n",
       "25%    2024-06-17 10:13:35.832232704            0.319474      0.294583   \n",
       "50%    2024-06-17 10:18:23.038426880            0.416390      0.471036   \n",
       "75%    2024-06-17 10:23:07.504600576            0.534272      0.612698   \n",
       "max    2024-06-17 10:27:56.776968002            1.000000      1.000000   \n",
       "std                              NaN            0.167406      0.210886   \n",
       "\n",
       "       Stage3_Stepper          idx  stepper_diff  \n",
       "count     7834.000000  7834.000000   7834.000000  \n",
       "mean   -319752.763467    72.587695      0.006706  \n",
       "min    -338208.000000     0.000000      0.000000  \n",
       "25%    -327457.000000    40.000000      0.000000  \n",
       "50%    -318127.000000    80.000000      0.000000  \n",
       "75%    -309020.000000   116.000000      0.000000  \n",
       "max    -302907.000000   142.000000      1.000000  \n",
       "std      10338.457573    42.400572      0.053176  "
      ],
      "text/html": [
       "<div>\n",
       "<style scoped>\n",
       "    .dataframe tbody tr th:only-of-type {\n",
       "        vertical-align: middle;\n",
       "    }\n",
       "\n",
       "    .dataframe tbody tr th {\n",
       "        vertical-align: top;\n",
       "    }\n",
       "\n",
       "    .dataframe thead th {\n",
       "        text-align: right;\n",
       "    }\n",
       "</style>\n",
       "<table border=\"1\" class=\"dataframe\">\n",
       "  <thead>\n",
       "    <tr style=\"text-align: right;\">\n",
       "      <th></th>\n",
       "      <th>time</th>\n",
       "      <th>Stage3_OutputPower</th>\n",
       "      <th>Stage3_Piezo</th>\n",
       "      <th>Stage3_Stepper</th>\n",
       "      <th>idx</th>\n",
       "      <th>stepper_diff</th>\n",
       "    </tr>\n",
       "  </thead>\n",
       "  <tbody>\n",
       "    <tr>\n",
       "      <th>count</th>\n",
       "      <td>7834</td>\n",
       "      <td>7834.000000</td>\n",
       "      <td>7834.000000</td>\n",
       "      <td>7834.000000</td>\n",
       "      <td>7834.000000</td>\n",
       "      <td>7834.000000</td>\n",
       "    </tr>\n",
       "    <tr>\n",
       "      <th>mean</th>\n",
       "      <td>2024-06-17 10:18:22.102510848</td>\n",
       "      <td>0.441465</td>\n",
       "      <td>0.454989</td>\n",
       "      <td>-319752.763467</td>\n",
       "      <td>72.587695</td>\n",
       "      <td>0.006706</td>\n",
       "    </tr>\n",
       "    <tr>\n",
       "      <th>min</th>\n",
       "      <td>2024-06-17 10:08:10.347822666</td>\n",
       "      <td>0.000000</td>\n",
       "      <td>0.000000</td>\n",
       "      <td>-338208.000000</td>\n",
       "      <td>0.000000</td>\n",
       "      <td>0.000000</td>\n",
       "    </tr>\n",
       "    <tr>\n",
       "      <th>25%</th>\n",
       "      <td>2024-06-17 10:13:35.832232704</td>\n",
       "      <td>0.319474</td>\n",
       "      <td>0.294583</td>\n",
       "      <td>-327457.000000</td>\n",
       "      <td>40.000000</td>\n",
       "      <td>0.000000</td>\n",
       "    </tr>\n",
       "    <tr>\n",
       "      <th>50%</th>\n",
       "      <td>2024-06-17 10:18:23.038426880</td>\n",
       "      <td>0.416390</td>\n",
       "      <td>0.471036</td>\n",
       "      <td>-318127.000000</td>\n",
       "      <td>80.000000</td>\n",
       "      <td>0.000000</td>\n",
       "    </tr>\n",
       "    <tr>\n",
       "      <th>75%</th>\n",
       "      <td>2024-06-17 10:23:07.504600576</td>\n",
       "      <td>0.534272</td>\n",
       "      <td>0.612698</td>\n",
       "      <td>-309020.000000</td>\n",
       "      <td>116.000000</td>\n",
       "      <td>0.000000</td>\n",
       "    </tr>\n",
       "    <tr>\n",
       "      <th>max</th>\n",
       "      <td>2024-06-17 10:27:56.776968002</td>\n",
       "      <td>1.000000</td>\n",
       "      <td>1.000000</td>\n",
       "      <td>-302907.000000</td>\n",
       "      <td>142.000000</td>\n",
       "      <td>1.000000</td>\n",
       "    </tr>\n",
       "    <tr>\n",
       "      <th>std</th>\n",
       "      <td>NaN</td>\n",
       "      <td>0.167406</td>\n",
       "      <td>0.210886</td>\n",
       "      <td>10338.457573</td>\n",
       "      <td>42.400572</td>\n",
       "      <td>0.053176</td>\n",
       "    </tr>\n",
       "  </tbody>\n",
       "</table>\n",
       "</div>"
      ]
     },
     "execution_count": 32,
     "metadata": {},
     "output_type": "execute_result"
    }
   ],
   "execution_count": 32
  },
  {
   "cell_type": "markdown",
   "id": "fbc4878c",
   "metadata": {},
   "source": [
    "## Create dataset"
   ]
  },
  {
   "cell_type": "code",
   "id": "c1b9495e",
   "metadata": {
    "ExecuteTime": {
     "end_time": "2024-12-13T11:05:14.320622Z",
     "start_time": "2024-12-13T11:05:14.251530Z"
    }
   },
   "source": [
    "# Create 'cond_vector' as a numpy array\n",
    "columns_for_cond_vector = [\n",
    "    'Stage3_OutputPower',\n",
    "    'Stage3_Piezo',\n",
    "    'stepper_diff',\n",
    "]\n",
    "data_stg3['cond_vector'] = data_stg3[columns_for_cond_vector].apply(lambda row: np.array(row.values), axis=1)\n",
    "\n",
    "# Keep only the required columns\n",
    "processed_data_stg3 = data_stg3[['time', 'idx', 'intensities', 'cond_vector']]\n",
    "\n",
    "processed_data_stg3.head()"
   ],
   "outputs": [
    {
     "data": {
      "text/plain": [
       "                           time  idx  \\\n",
       "0 2024-06-17 10:08:10.347822666    0   \n",
       "1 2024-06-17 10:08:10.431182861    0   \n",
       "2 2024-06-17 10:08:10.852890968    1   \n",
       "3 2024-06-17 10:08:10.929437160    1   \n",
       "4 2024-06-17 10:08:10.933794975    1   \n",
       "\n",
       "                                         intensities  \\\n",
       "0  [0.0019075225818034902, 0.001176234969386854, ...   \n",
       "1  [0.0019075225818034902, 0.001176234969386854, ...   \n",
       "2  [0.0019075225818034902, 0.001176234969386854, ...   \n",
       "3  [0.0019075225818034902, 0.0004203727649805602,...   \n",
       "4  [0.0019075225818034902, 0.0004203727649805602,...   \n",
       "\n",
       "                                         cond_vector  \n",
       "0      [0.7418764744556601, 0.6048154227426874, 0.0]  \n",
       "1      [0.8654039525080247, 0.6048154227426874, 0.0]  \n",
       "2  [0.8654039525080247, 0.6048154227426874, 0.421...  \n",
       "3                     [1.0, 0.6048154227426874, 0.0]  \n",
       "4                     [1.0, 0.6048154227426874, 0.0]  "
      ],
      "text/html": [
       "<div>\n",
       "<style scoped>\n",
       "    .dataframe tbody tr th:only-of-type {\n",
       "        vertical-align: middle;\n",
       "    }\n",
       "\n",
       "    .dataframe tbody tr th {\n",
       "        vertical-align: top;\n",
       "    }\n",
       "\n",
       "    .dataframe thead th {\n",
       "        text-align: right;\n",
       "    }\n",
       "</style>\n",
       "<table border=\"1\" class=\"dataframe\">\n",
       "  <thead>\n",
       "    <tr style=\"text-align: right;\">\n",
       "      <th></th>\n",
       "      <th>time</th>\n",
       "      <th>idx</th>\n",
       "      <th>intensities</th>\n",
       "      <th>cond_vector</th>\n",
       "    </tr>\n",
       "  </thead>\n",
       "  <tbody>\n",
       "    <tr>\n",
       "      <th>0</th>\n",
       "      <td>2024-06-17 10:08:10.347822666</td>\n",
       "      <td>0</td>\n",
       "      <td>[0.0019075225818034902, 0.001176234969386854, ...</td>\n",
       "      <td>[0.7418764744556601, 0.6048154227426874, 0.0]</td>\n",
       "    </tr>\n",
       "    <tr>\n",
       "      <th>1</th>\n",
       "      <td>2024-06-17 10:08:10.431182861</td>\n",
       "      <td>0</td>\n",
       "      <td>[0.0019075225818034902, 0.001176234969386854, ...</td>\n",
       "      <td>[0.8654039525080247, 0.6048154227426874, 0.0]</td>\n",
       "    </tr>\n",
       "    <tr>\n",
       "      <th>2</th>\n",
       "      <td>2024-06-17 10:08:10.852890968</td>\n",
       "      <td>1</td>\n",
       "      <td>[0.0019075225818034902, 0.001176234969386854, ...</td>\n",
       "      <td>[0.8654039525080247, 0.6048154227426874, 0.421...</td>\n",
       "    </tr>\n",
       "    <tr>\n",
       "      <th>3</th>\n",
       "      <td>2024-06-17 10:08:10.929437160</td>\n",
       "      <td>1</td>\n",
       "      <td>[0.0019075225818034902, 0.0004203727649805602,...</td>\n",
       "      <td>[1.0, 0.6048154227426874, 0.0]</td>\n",
       "    </tr>\n",
       "    <tr>\n",
       "      <th>4</th>\n",
       "      <td>2024-06-17 10:08:10.933794975</td>\n",
       "      <td>1</td>\n",
       "      <td>[0.0019075225818034902, 0.0004203727649805602,...</td>\n",
       "      <td>[1.0, 0.6048154227426874, 0.0]</td>\n",
       "    </tr>\n",
       "  </tbody>\n",
       "</table>\n",
       "</div>"
      ]
     },
     "execution_count": 33,
     "metadata": {},
     "output_type": "execute_result"
    }
   ],
   "execution_count": 33
  },
  {
   "cell_type": "markdown",
   "id": "a7b092f6",
   "metadata": {},
   "source": [
    "## Save dataset"
   ]
  },
  {
   "cell_type": "code",
   "id": "a8b8915a",
   "metadata": {
    "ExecuteTime": {
     "end_time": "2024-12-13T11:05:24.392055Z",
     "start_time": "2024-12-13T11:05:19.390231Z"
    }
   },
   "source": [
    "processed_data_stg3['intensities'] = processed_data_stg3['intensities'].apply(lambda x: ','.join(map(str, x)))\n",
    "processed_data_stg3['cond_vector'] = processed_data_stg3['cond_vector'].apply(lambda x: ','.join(map(str, x)))\n",
    "\n",
    "\n",
    "processed_data_stg3.to_csv('data/processed_data_stg3.csv', index=False)"
   ],
   "outputs": [
    {
     "name": "stderr",
     "output_type": "stream",
     "text": [
      "/tmp/ipykernel_590793/3533386617.py:1: SettingWithCopyWarning: \n",
      "A value is trying to be set on a copy of a slice from a DataFrame.\n",
      "Try using .loc[row_indexer,col_indexer] = value instead\n",
      "\n",
      "See the caveats in the documentation: https://pandas.pydata.org/pandas-docs/stable/user_guide/indexing.html#returning-a-view-versus-a-copy\n",
      "  processed_data_stg3['intensities'] = processed_data_stg3['intensities'].apply(lambda x: ','.join(map(str, x)))\n",
      "/tmp/ipykernel_590793/3533386617.py:2: SettingWithCopyWarning: \n",
      "A value is trying to be set on a copy of a slice from a DataFrame.\n",
      "Try using .loc[row_indexer,col_indexer] = value instead\n",
      "\n",
      "See the caveats in the documentation: https://pandas.pydata.org/pandas-docs/stable/user_guide/indexing.html#returning-a-view-versus-a-copy\n",
      "  processed_data_stg3['cond_vector'] = processed_data_stg3['cond_vector'].apply(lambda x: ','.join(map(str, x)))\n"
     ]
    }
   ],
   "execution_count": 34
  },
  {
   "metadata": {},
   "cell_type": "code",
   "source": "",
   "id": "35bb964b92e0b958",
   "outputs": [],
   "execution_count": null
  }
 ],
 "metadata": {
  "kernelspec": {
   "display_name": "Python 3 (ipykernel)",
   "language": "python",
   "name": "python3"
  },
  "language_info": {
   "codemirror_mode": {
    "name": "ipython",
    "version": 3
   },
   "file_extension": ".py",
   "mimetype": "text/x-python",
   "name": "python",
   "nbconvert_exporter": "python",
   "pygments_lexer": "ipython3",
   "version": "3.10.8"
  }
 },
 "nbformat": 4,
 "nbformat_minor": 5
}
