{
 "cells": [
  {
   "cell_type": "code",
   "execution_count": 5,
   "id": "b9b156ee-6b9f-4f37-8a25-54dc8c0a6c6f",
   "metadata": {},
   "outputs": [],
   "source": [
    "import pandas as pd\n",
    "import numpy as np"
   ]
  },
  {
   "cell_type": "code",
   "execution_count": 6,
   "id": "778db644-e9b6-44db-98da-c5cbad461583",
   "metadata": {},
   "outputs": [
    {
     "data": {
      "text/html": [
       "<div>\n",
       "<style scoped>\n",
       "    .dataframe tbody tr th:only-of-type {\n",
       "        vertical-align: middle;\n",
       "    }\n",
       "\n",
       "    .dataframe tbody tr th {\n",
       "        vertical-align: top;\n",
       "    }\n",
       "\n",
       "    .dataframe thead th {\n",
       "        text-align: right;\n",
       "    }\n",
       "</style>\n",
       "<table border=\"1\" class=\"dataframe\">\n",
       "  <thead>\n",
       "    <tr style=\"text-align: right;\">\n",
       "      <th></th>\n",
       "      <th>time</th>\n",
       "      <th>intensities</th>\n",
       "      <th>cond_vector</th>\n",
       "    </tr>\n",
       "  </thead>\n",
       "  <tbody>\n",
       "    <tr>\n",
       "      <th>0</th>\n",
       "      <td>2024-11-21 10:14:13.954589367</td>\n",
       "      <td>-1.0,-1.0,-1.0,-1.0,-1.0,-1.0,-1.0,-1.0,-1.0,-...</td>\n",
       "      <td>[-0.3478, -0.4151, -0.8214, -1.6029, -2.0, -1....</td>\n",
       "    </tr>\n",
       "    <tr>\n",
       "      <th>1</th>\n",
       "      <td>2024-11-21 10:14:14.964668751</td>\n",
       "      <td>-1.0,-1.0,-1.0,-1.0,-1.0,-1.0,-1.0,-1.0,-1.0,-...</td>\n",
       "      <td>[-0.3478, -0.4151, -0.8214, -1.6029, -2.0, -1....</td>\n",
       "    </tr>\n",
       "    <tr>\n",
       "      <th>2</th>\n",
       "      <td>2024-11-21 10:14:16.018996716</td>\n",
       "      <td>-1.0,-1.0,-1.0,-1.0,-1.0,-1.0,-1.0,-1.0,-1.0,-...</td>\n",
       "      <td>[-0.3478, -0.4151, -0.8214, -1.6029, -2.0, -1....</td>\n",
       "    </tr>\n",
       "    <tr>\n",
       "      <th>3</th>\n",
       "      <td>2024-11-21 10:14:17.021016121</td>\n",
       "      <td>-1.0,-1.0,-1.0,-1.0,-1.0,-1.0,-1.0,-1.0,-1.0,-...</td>\n",
       "      <td>[-0.3478, -0.4151, -0.8214, -1.6029, -2.0, -1....</td>\n",
       "    </tr>\n",
       "    <tr>\n",
       "      <th>4</th>\n",
       "      <td>2024-11-21 10:14:18.027237415</td>\n",
       "      <td>-1.0,-1.0,-1.0,-1.0,-1.0,-1.0,-1.0,-1.0,-1.0,-...</td>\n",
       "      <td>[-0.3478, -0.4151, -0.8214, -1.6029, -2.0, -1....</td>\n",
       "    </tr>\n",
       "  </tbody>\n",
       "</table>\n",
       "</div>"
      ],
      "text/plain": [
       "                            time  \\\n",
       "0  2024-11-21 10:14:13.954589367   \n",
       "1  2024-11-21 10:14:14.964668751   \n",
       "2  2024-11-21 10:14:16.018996716   \n",
       "3  2024-11-21 10:14:17.021016121   \n",
       "4  2024-11-21 10:14:18.027237415   \n",
       "\n",
       "                                         intensities  \\\n",
       "0  -1.0,-1.0,-1.0,-1.0,-1.0,-1.0,-1.0,-1.0,-1.0,-...   \n",
       "1  -1.0,-1.0,-1.0,-1.0,-1.0,-1.0,-1.0,-1.0,-1.0,-...   \n",
       "2  -1.0,-1.0,-1.0,-1.0,-1.0,-1.0,-1.0,-1.0,-1.0,-...   \n",
       "3  -1.0,-1.0,-1.0,-1.0,-1.0,-1.0,-1.0,-1.0,-1.0,-...   \n",
       "4  -1.0,-1.0,-1.0,-1.0,-1.0,-1.0,-1.0,-1.0,-1.0,-...   \n",
       "\n",
       "                                         cond_vector  \n",
       "0  [-0.3478, -0.4151, -0.8214, -1.6029, -2.0, -1....  \n",
       "1  [-0.3478, -0.4151, -0.8214, -1.6029, -2.0, -1....  \n",
       "2  [-0.3478, -0.4151, -0.8214, -1.6029, -2.0, -1....  \n",
       "3  [-0.3478, -0.4151, -0.8214, -1.6029, -2.0, -1....  \n",
       "4  [-0.3478, -0.4151, -0.8214, -1.6029, -2.0, -1....  "
      ]
     },
     "execution_count": 6,
     "metadata": {},
     "output_type": "execute_result"
    }
   ],
   "source": [
    "df = pd.read_csv(\"../data/train_data_stg7_norm.csv\")\n",
    "df.head()"
   ]
  },
  {
   "cell_type": "code",
   "execution_count": null,
   "id": "66d60672-255d-437f-a1e6-2c9498a1056c",
   "metadata": {},
   "outputs": [],
   "source": [
    "df['cond_vector'] = df['cond_vector'].apply(lambda x: np.array(eval(x)))  # Convert string to list"
   ]
  },
  {
   "cell_type": "code",
   "execution_count": 16,
   "id": "cf663d51-81d5-4dc4-9b1a-f6dfda104f90",
   "metadata": {},
   "outputs": [
    {
     "name": "stdout",
     "output_type": "stream",
     "text": [
      "<class 'pandas.core.frame.DataFrame'>\n",
      "RangeIndex: 176954 entries, 0 to 176953\n",
      "Data columns (total 3 columns):\n",
      " #   Column       Non-Null Count   Dtype \n",
      "---  ------       --------------   ----- \n",
      " 0   time         176954 non-null  object\n",
      " 1   intensities  176954 non-null  object\n",
      " 2   cond_vector  176954 non-null  object\n",
      "dtypes: object(3)\n",
      "memory usage: 4.1+ MB\n"
     ]
    }
   ],
   "source": [
    "df.info()"
   ]
  },
  {
   "cell_type": "code",
   "execution_count": 23,
   "id": "061b795a-4348-45d9-8451-a99be60e3d78",
   "metadata": {},
   "outputs": [
    {
     "data": {
      "text/plain": [
       "0        -0.3478\n",
       "1        -0.3478\n",
       "2        -0.3478\n",
       "3        -0.3478\n",
       "4        -0.3478\n",
       "           ...  \n",
       "176949   -0.5754\n",
       "176950   -0.5754\n",
       "176951   -0.5754\n",
       "176952   -0.5754\n",
       "176953   -0.5754\n",
       "Name: cond_vector, Length: 176954, dtype: float64"
      ]
     },
     "execution_count": 23,
     "metadata": {},
     "output_type": "execute_result"
    }
   ],
   "source": [
    "df['cond_vector'].apply(lambda x: x[0])"
   ]
  },
  {
   "cell_type": "code",
   "execution_count": 22,
   "id": "abdc7110-2f83-4749-b038-7231a7aeed2e",
   "metadata": {},
   "outputs": [
    {
     "data": {
      "text/plain": [
       "0         [-0.3478, -0.4151, -0.8214, -1.6029, -2.0, -1....\n",
       "1         [-0.3478, -0.4151, -0.8214, -1.6029, -2.0, -1....\n",
       "2         [-0.3478, -0.4151, -0.8214, -1.6029, -2.0, -1....\n",
       "3         [-0.3478, -0.4151, -0.8214, -1.6029, -2.0, -1....\n",
       "4         [-0.3478, -0.4151, -0.8214, -1.6029, -2.0, -1....\n",
       "                                ...                        \n",
       "176949    [-0.5754, -0.0728, -0.9537, -1.4686, -2.0, -1....\n",
       "176950    [-0.5754, -0.0728, -0.9537, -1.4686, -2.0, -1....\n",
       "176951    [-0.5754, -0.0728, -0.9537, -1.4686, -2.0, -1....\n",
       "176952    [-0.5754, -0.0728, -0.9537, -1.4686, -2.0, -1....\n",
       "176953    [-0.5754, -0.0728, -0.9537, -1.4686, -2.0, -1....\n",
       "Name: cond_vector, Length: 176954, dtype: object"
      ]
     },
     "execution_count": 22,
     "metadata": {},
     "output_type": "execute_result"
    }
   ],
   "source": [
    "df['cond_vector']"
   ]
  },
  {
   "cell_type": "code",
   "execution_count": 21,
   "id": "f1f48a88-367d-46fc-a350-ecc896aa7966",
   "metadata": {},
   "outputs": [
    {
     "data": {
      "text/plain": [
       "numpy.ndarray"
      ]
     },
     "execution_count": 21,
     "metadata": {},
     "output_type": "execute_result"
    }
   ],
   "source": [
    "type(df['cond_vector'][0])"
   ]
  },
  {
   "cell_type": "code",
   "execution_count": 24,
   "id": "42d6a6da-a920-46d9-90d7-c751d91d66d2",
   "metadata": {},
   "outputs": [
    {
     "name": "stdout",
     "output_type": "stream",
     "text": [
      "                              min      max       mean    median         var\n",
      "L1-PL3-PZM52:Setpoint     -3.0000   3.0000  -0.373908  -0.45140    0.084352\n",
      "L1-PL3-PZM53:Setpoint     -3.0000   3.0000  -0.145767  -0.05320    0.130425\n",
      "L1-PL3-PZM56:Setpoint     -1.5910   0.6349  -0.438557  -0.42560    0.149235\n",
      "L1-PL3-PZM57:Setpoint     -3.5833  -0.0177  -1.469660  -1.48390    0.201450\n",
      "L1-PL3-PZM58:Setpoint     -3.0000   1.0000  -1.067718  -1.00000    0.581451\n",
      "L1-PL3-PZM59:Setpoint     -3.0000   1.0000  -1.053178  -1.00000    0.423116\n",
      "L1-PL4-PZM66:Setpoint     -3.7500   3.1082  -1.858180  -2.16150    1.616798\n",
      "L1-PL4-PZM67:Setpoint     -3.7500   0.2802  -1.209813  -1.00100    0.417174\n",
      "L1-PL4-PZM68:Setpoint     -3.7500   3.7500  -1.449220  -1.87455    3.202586\n",
      "L1-PL4-PZM69:Setpoint     -1.9848   3.7500   0.984437   1.17670    1.426881\n",
      "L1-INJ-PM70:VAL_CAL       -0.3500  41.8900  27.409730  35.01000  193.629425\n",
      "L1-OPA3-5_2-PM98:VAL_CAL   5.6200  66.2500  36.885450  45.97000  333.885421\n",
      "L1-INJ-PM70:VAL_CAL_diff -33.7200   1.0800   0.013639   0.00000    0.026835\n"
     ]
    }
   ],
   "source": [
    "parameters_columns = [\n",
    "    \"L1-PL3-PZM52:Setpoint\", \"L1-PL3-PZM53:Setpoint\", \"L1-PL3-PZM56:Setpoint\",\n",
    "    \"L1-PL3-PZM57:Setpoint\", \"L1-PL3-PZM58:Setpoint\", \"L1-PL3-PZM59:Setpoint\",\n",
    "    \"L1-PL4-PZM66:Setpoint\", \"L1-PL4-PZM67:Setpoint\", \"L1-PL4-PZM68:Setpoint\",\n",
    "    \"L1-PL4-PZM69:Setpoint\", \"L1-INJ-PM70:VAL_CAL\", \"L1-OPA3-5_2-PM98:VAL_CAL\",\n",
    "    \"L1-INJ-PM70:VAL_CAL_diff\"\n",
    "]\n",
    "\n",
    "stats_results = {}\n",
    "for i, param in enumerate(parameters_columns):\n",
    "    stats_results[param] = {\n",
    "        'min': df['cond_vector'].apply(lambda x: x[i]).min(),\n",
    "        'max': df['cond_vector'].apply(lambda x: x[i]).max(),\n",
    "        'mean': df['cond_vector'].apply(lambda x: x[i]).mean(),\n",
    "        'median': np.median(df['cond_vector'].apply(lambda x: x[i])),\n",
    "        'var': df['cond_vector'].apply(lambda x: x[i]).var()\n",
    "    }\n",
    "\n",
    "# Convert the results to a DataFrame\n",
    "stats_df = pd.DataFrame(stats_results).T  # Transpose so each parameter is a row\n",
    "\n",
    "print(stats_df)"
   ]
  },
  {
   "cell_type": "code",
   "execution_count": null,
   "id": "07af2e42-d253-49f9-b3d0-98b5ddc7ffb7",
   "metadata": {},
   "outputs": [],
   "source": []
  },
  {
   "cell_type": "code",
   "execution_count": null,
   "id": "44160566-6bd4-4102-b9c7-d51e69290243",
   "metadata": {},
   "outputs": [],
   "source": []
  }
 ],
 "metadata": {
  "kernelspec": {
   "display_name": "Python 3 (ipykernel)",
   "language": "python",
   "name": "python3"
  },
  "language_info": {
   "codemirror_mode": {
    "name": "ipython",
    "version": 3
   },
   "file_extension": ".py",
   "mimetype": "text/x-python",
   "name": "python",
   "nbconvert_exporter": "python",
   "pygments_lexer": "ipython3",
   "version": "3.10.12"
  }
 },
 "nbformat": 4,
 "nbformat_minor": 5
}
