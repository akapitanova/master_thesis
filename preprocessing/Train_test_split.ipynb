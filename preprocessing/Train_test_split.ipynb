{
 "cells": [
  {
   "cell_type": "code",
   "execution_count": 1,
   "id": "be63d21d-816d-4723-827d-5a77c9f2cde4",
   "metadata": {},
   "outputs": [],
   "source": [
    "import pandas as pd\n",
    "from sklearn.model_selection import train_test_split"
   ]
  },
  {
   "cell_type": "code",
   "execution_count": 2,
   "id": "3934b04e-5693-4976-b3c3-71ef5814cb42",
   "metadata": {},
   "outputs": [],
   "source": [
    "data_path = '../data/data_merged_cleaned.csv'"
   ]
  },
  {
   "cell_type": "code",
   "execution_count": 3,
   "id": "d201f56a-f3e7-45e2-8726-ad12b58cdf56",
   "metadata": {},
   "outputs": [
    {
     "name": "stdout",
     "output_type": "stream",
     "text": [
      "<class 'pandas.core.frame.DataFrame'>\n",
      "RangeIndex: 204529 entries, 0 to 204528\n",
      "Data columns (total 15 columns):\n",
      " #   Column                    Non-Null Count   Dtype  \n",
      "---  ------                    --------------   -----  \n",
      " 0   Time                      204529 non-null  object \n",
      " 1   Intensities               204529 non-null  object \n",
      " 2   L1-PL3-PZM52:Setpoint     204529 non-null  float64\n",
      " 3   L1-PL3-PZM53:Setpoint     204529 non-null  float64\n",
      " 4   L1-PL3-PZM56:Setpoint     204529 non-null  float64\n",
      " 5   L1-PL3-PZM57:Setpoint     204529 non-null  float64\n",
      " 6   L1-PL3-PZM58:Setpoint     204529 non-null  float64\n",
      " 7   L1-PL3-PZM59:Setpoint     204529 non-null  float64\n",
      " 8   L1-PL4-PZM66:Setpoint     204529 non-null  float64\n",
      " 9   L1-PL4-PZM67:Setpoint     204529 non-null  float64\n",
      " 10  L1-PL4-PZM68:Setpoint     204529 non-null  float64\n",
      " 11  L1-PL4-PZM69:Setpoint     204529 non-null  float64\n",
      " 12  L1-INJ-PM70:VAL_CAL       204529 non-null  float64\n",
      " 13  L1-OPA3-5_2-PM98:VAL_CAL  204529 non-null  float64\n",
      " 14  L1-INJ-PM70:VAL_CAL_diff  204529 non-null  float64\n",
      "dtypes: float64(13), object(2)\n",
      "memory usage: 23.4+ MB\n"
     ]
    }
   ],
   "source": [
    "data = pd.read_csv(data_path)\n",
    "data.info()"
   ]
  },
  {
   "cell_type": "code",
   "execution_count": 4,
   "id": "3fa45591-5c8a-44fc-b068-3ff6a5b5f015",
   "metadata": {},
   "outputs": [],
   "source": [
    "X = data.drop(columns=['Intensities'])  \n",
    "y = data['Intensities']  "
   ]
  },
  {
   "cell_type": "code",
   "execution_count": 5,
   "id": "51f221b5-731b-43fa-84d2-d4500a53a61c",
   "metadata": {},
   "outputs": [],
   "source": [
    "X_train, X_test, y_train, y_test = train_test_split(X, \n",
    "                                                    y, \n",
    "                                                    test_size=0.1, \n",
    "                                                    random_state=42)\n",
    "\n",
    "train_data = pd.concat([X_train, y_train], axis=1)"
   ]
  },
  {
   "cell_type": "code",
   "execution_count": 7,
   "id": "d7df63b0-6ba7-4325-afb6-2000604d0f29",
   "metadata": {},
   "outputs": [],
   "source": [
    "train_data.to_csv('../data/train_data_stg7.csv', index=False)"
   ]
  },
  {
   "cell_type": "code",
   "execution_count": 19,
   "id": "a89b1bc0-2232-429f-a162-b20a328feb6a",
   "metadata": {},
   "outputs": [],
   "source": [
    "X_val, X_test, y_val, y_test = train_test_split(X_test, y_test, test_size=0.9, random_state=42)\n",
    "\n",
    "val_data = pd.concat([X_val, y_val], axis=1)\n",
    "test_data = pd.concat([X_test, y_test], axis=1)"
   ]
  },
  {
   "cell_type": "code",
   "execution_count": 21,
   "id": "7e73a8b8-8978-4fa0-8dd4-adffbd2f010b",
   "metadata": {},
   "outputs": [],
   "source": [
    "val_data.to_csv('../data/val_data_stg7.csv', index=False)\n",
    "test_data.to_csv('../data/test_data_stg7.csv', index=False)"
   ]
  },
  {
   "cell_type": "code",
   "execution_count": 20,
   "id": "63ba821b-b6e0-4d80-9a91-592da568c076",
   "metadata": {},
   "outputs": [
    {
     "name": "stdout",
     "output_type": "stream",
     "text": [
      "Train shape: (184076, 15)\n",
      "Validation shape: (2045, 15)\n",
      "Test shape: (18408, 15)\n"
     ]
    }
   ],
   "source": [
    "print(\"Train shape:\", train_data.shape)\n",
    "print(\"Validation shape:\", val_data.shape)\n",
    "print(\"Test shape:\", test_data.shape)"
   ]
  },
  {
   "cell_type": "code",
   "execution_count": null,
   "id": "087ec6da-0f47-466c-a554-aec6e0fb8a33",
   "metadata": {},
   "outputs": [],
   "source": []
  }
 ],
 "metadata": {
  "kernelspec": {
   "display_name": "Python 3 (ipykernel)",
   "language": "python",
   "name": "python3"
  },
  "language_info": {
   "codemirror_mode": {
    "name": "ipython",
    "version": 3
   },
   "file_extension": ".py",
   "mimetype": "text/x-python",
   "name": "python",
   "nbconvert_exporter": "python",
   "pygments_lexer": "ipython3",
   "version": "3.10.12"
  }
 },
 "nbformat": 4,
 "nbformat_minor": 5
}
